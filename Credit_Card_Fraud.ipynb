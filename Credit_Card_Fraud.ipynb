{
  "cells": [
    {
      "cell_type": "markdown",
      "metadata": {
        "id": "-szb6hU3i2qj"
      },
      "source": [
        "## Credit Card Fraud Detection\n",
        "\n",
        "\n",
        "\n",
        "\n"
      ]
    },
    {
      "cell_type": "markdown",
      "metadata": {
        "id": "eVMMYhY3k8fU"
      },
      "source": [
        "## Importing necessary libraries"
      ]
    },
    {
      "cell_type": "code",
      "execution_count": null,
      "metadata": {
        "id": "Qbs_TKNUxTde"
      },
      "outputs": [],
      "source": [
        "import numpy as np\n",
        "import pandas as pd\n",
        "import seaborn as sns\n",
        "from matplotlib import pyplot as plt\n",
        "from sklearn.model_selection import train_test_split\n",
        "from sklearn.linear_model import LogisticRegression\n",
        "from sklearn.tree import DecisionTreeClassifier\n",
        "from sklearn import preprocessing\n",
        "from sklearn.metrics import accuracy_score, recall_score, precision_score,f1_score, classification_report,confusion_matrix,ConfusionMatrixDisplay"
      ]
    },
    {
      "cell_type": "markdown",
      "metadata": {
        "id": "N-v4a6p7laZX"
      },
      "source": [
        "# Loading the Dataset\n"
      ]
    },
    {
      "cell_type": "code",
      "execution_count": null,
      "metadata": {
        "colab": {
          "base_uri": "https://localhost:8080/",
          "height": 255
        },
        "id": "Xi3yfGabyJxy",
        "outputId": "fc021235-b249-40b6-bc55-dbb494d6ac63"
      },
      "outputs": [
        {
          "output_type": "execute_result",
          "data": {
            "text/plain": [
              "   Time        V1        V2        V3        V4        V5        V6        V7  \\\n",
              "0   0.0 -1.359807 -0.072781  2.536347  1.378155 -0.338321  0.462388  0.239599   \n",
              "1   0.0  1.191857  0.266151  0.166480  0.448154  0.060018 -0.082361 -0.078803   \n",
              "2   1.0 -1.358354 -1.340163  1.773209  0.379780 -0.503198  1.800499  0.791461   \n",
              "3   1.0 -0.966272 -0.185226  1.792993 -0.863291 -0.010309  1.247203  0.237609   \n",
              "4   2.0 -1.158233  0.877737  1.548718  0.403034 -0.407193  0.095921  0.592941   \n",
              "\n",
              "         V8        V9  ...       V21       V22       V23       V24       V25  \\\n",
              "0  0.098698  0.363787  ... -0.018307  0.277838 -0.110474  0.066928  0.128539   \n",
              "1  0.085102 -0.255425  ... -0.225775 -0.638672  0.101288 -0.339846  0.167170   \n",
              "2  0.247676 -1.514654  ...  0.247998  0.771679  0.909412 -0.689281 -0.327642   \n",
              "3  0.377436 -1.387024  ... -0.108300  0.005274 -0.190321 -1.175575  0.647376   \n",
              "4 -0.270533  0.817739  ... -0.009431  0.798278 -0.137458  0.141267 -0.206010   \n",
              "\n",
              "        V26       V27       V28  Amount  Class  \n",
              "0 -0.189115  0.133558 -0.021053  149.62      0  \n",
              "1  0.125895 -0.008983  0.014724    2.69      0  \n",
              "2 -0.139097 -0.055353 -0.059752  378.66      0  \n",
              "3 -0.221929  0.062723  0.061458  123.50      0  \n",
              "4  0.502292  0.219422  0.215153   69.99      0  \n",
              "\n",
              "[5 rows x 31 columns]"
            ],
            "text/html": [
              "\n",
              "  <div id=\"df-d73cbe6a-6abc-45ec-97d0-ed0a1dd88b84\" class=\"colab-df-container\">\n",
              "    <div>\n",
              "<style scoped>\n",
              "    .dataframe tbody tr th:only-of-type {\n",
              "        vertical-align: middle;\n",
              "    }\n",
              "\n",
              "    .dataframe tbody tr th {\n",
              "        vertical-align: top;\n",
              "    }\n",
              "\n",
              "    .dataframe thead th {\n",
              "        text-align: right;\n",
              "    }\n",
              "</style>\n",
              "<table border=\"1\" class=\"dataframe\">\n",
              "  <thead>\n",
              "    <tr style=\"text-align: right;\">\n",
              "      <th></th>\n",
              "      <th>Time</th>\n",
              "      <th>V1</th>\n",
              "      <th>V2</th>\n",
              "      <th>V3</th>\n",
              "      <th>V4</th>\n",
              "      <th>V5</th>\n",
              "      <th>V6</th>\n",
              "      <th>V7</th>\n",
              "      <th>V8</th>\n",
              "      <th>V9</th>\n",
              "      <th>...</th>\n",
              "      <th>V21</th>\n",
              "      <th>V22</th>\n",
              "      <th>V23</th>\n",
              "      <th>V24</th>\n",
              "      <th>V25</th>\n",
              "      <th>V26</th>\n",
              "      <th>V27</th>\n",
              "      <th>V28</th>\n",
              "      <th>Amount</th>\n",
              "      <th>Class</th>\n",
              "    </tr>\n",
              "  </thead>\n",
              "  <tbody>\n",
              "    <tr>\n",
              "      <th>0</th>\n",
              "      <td>0.0</td>\n",
              "      <td>-1.359807</td>\n",
              "      <td>-0.072781</td>\n",
              "      <td>2.536347</td>\n",
              "      <td>1.378155</td>\n",
              "      <td>-0.338321</td>\n",
              "      <td>0.462388</td>\n",
              "      <td>0.239599</td>\n",
              "      <td>0.098698</td>\n",
              "      <td>0.363787</td>\n",
              "      <td>...</td>\n",
              "      <td>-0.018307</td>\n",
              "      <td>0.277838</td>\n",
              "      <td>-0.110474</td>\n",
              "      <td>0.066928</td>\n",
              "      <td>0.128539</td>\n",
              "      <td>-0.189115</td>\n",
              "      <td>0.133558</td>\n",
              "      <td>-0.021053</td>\n",
              "      <td>149.62</td>\n",
              "      <td>0</td>\n",
              "    </tr>\n",
              "    <tr>\n",
              "      <th>1</th>\n",
              "      <td>0.0</td>\n",
              "      <td>1.191857</td>\n",
              "      <td>0.266151</td>\n",
              "      <td>0.166480</td>\n",
              "      <td>0.448154</td>\n",
              "      <td>0.060018</td>\n",
              "      <td>-0.082361</td>\n",
              "      <td>-0.078803</td>\n",
              "      <td>0.085102</td>\n",
              "      <td>-0.255425</td>\n",
              "      <td>...</td>\n",
              "      <td>-0.225775</td>\n",
              "      <td>-0.638672</td>\n",
              "      <td>0.101288</td>\n",
              "      <td>-0.339846</td>\n",
              "      <td>0.167170</td>\n",
              "      <td>0.125895</td>\n",
              "      <td>-0.008983</td>\n",
              "      <td>0.014724</td>\n",
              "      <td>2.69</td>\n",
              "      <td>0</td>\n",
              "    </tr>\n",
              "    <tr>\n",
              "      <th>2</th>\n",
              "      <td>1.0</td>\n",
              "      <td>-1.358354</td>\n",
              "      <td>-1.340163</td>\n",
              "      <td>1.773209</td>\n",
              "      <td>0.379780</td>\n",
              "      <td>-0.503198</td>\n",
              "      <td>1.800499</td>\n",
              "      <td>0.791461</td>\n",
              "      <td>0.247676</td>\n",
              "      <td>-1.514654</td>\n",
              "      <td>...</td>\n",
              "      <td>0.247998</td>\n",
              "      <td>0.771679</td>\n",
              "      <td>0.909412</td>\n",
              "      <td>-0.689281</td>\n",
              "      <td>-0.327642</td>\n",
              "      <td>-0.139097</td>\n",
              "      <td>-0.055353</td>\n",
              "      <td>-0.059752</td>\n",
              "      <td>378.66</td>\n",
              "      <td>0</td>\n",
              "    </tr>\n",
              "    <tr>\n",
              "      <th>3</th>\n",
              "      <td>1.0</td>\n",
              "      <td>-0.966272</td>\n",
              "      <td>-0.185226</td>\n",
              "      <td>1.792993</td>\n",
              "      <td>-0.863291</td>\n",
              "      <td>-0.010309</td>\n",
              "      <td>1.247203</td>\n",
              "      <td>0.237609</td>\n",
              "      <td>0.377436</td>\n",
              "      <td>-1.387024</td>\n",
              "      <td>...</td>\n",
              "      <td>-0.108300</td>\n",
              "      <td>0.005274</td>\n",
              "      <td>-0.190321</td>\n",
              "      <td>-1.175575</td>\n",
              "      <td>0.647376</td>\n",
              "      <td>-0.221929</td>\n",
              "      <td>0.062723</td>\n",
              "      <td>0.061458</td>\n",
              "      <td>123.50</td>\n",
              "      <td>0</td>\n",
              "    </tr>\n",
              "    <tr>\n",
              "      <th>4</th>\n",
              "      <td>2.0</td>\n",
              "      <td>-1.158233</td>\n",
              "      <td>0.877737</td>\n",
              "      <td>1.548718</td>\n",
              "      <td>0.403034</td>\n",
              "      <td>-0.407193</td>\n",
              "      <td>0.095921</td>\n",
              "      <td>0.592941</td>\n",
              "      <td>-0.270533</td>\n",
              "      <td>0.817739</td>\n",
              "      <td>...</td>\n",
              "      <td>-0.009431</td>\n",
              "      <td>0.798278</td>\n",
              "      <td>-0.137458</td>\n",
              "      <td>0.141267</td>\n",
              "      <td>-0.206010</td>\n",
              "      <td>0.502292</td>\n",
              "      <td>0.219422</td>\n",
              "      <td>0.215153</td>\n",
              "      <td>69.99</td>\n",
              "      <td>0</td>\n",
              "    </tr>\n",
              "  </tbody>\n",
              "</table>\n",
              "<p>5 rows × 31 columns</p>\n",
              "</div>\n",
              "    <div class=\"colab-df-buttons\">\n",
              "\n",
              "  <div class=\"colab-df-container\">\n",
              "    <button class=\"colab-df-convert\" onclick=\"convertToInteractive('df-d73cbe6a-6abc-45ec-97d0-ed0a1dd88b84')\"\n",
              "            title=\"Convert this dataframe to an interactive table.\"\n",
              "            style=\"display:none;\">\n",
              "\n",
              "  <svg xmlns=\"http://www.w3.org/2000/svg\" height=\"24px\" viewBox=\"0 -960 960 960\">\n",
              "    <path d=\"M120-120v-720h720v720H120Zm60-500h600v-160H180v160Zm220 220h160v-160H400v160Zm0 220h160v-160H400v160ZM180-400h160v-160H180v160Zm440 0h160v-160H620v160ZM180-180h160v-160H180v160Zm440 0h160v-160H620v160Z\"/>\n",
              "  </svg>\n",
              "    </button>\n",
              "\n",
              "  <style>\n",
              "    .colab-df-container {\n",
              "      display:flex;\n",
              "      gap: 12px;\n",
              "    }\n",
              "\n",
              "    .colab-df-convert {\n",
              "      background-color: #E8F0FE;\n",
              "      border: none;\n",
              "      border-radius: 50%;\n",
              "      cursor: pointer;\n",
              "      display: none;\n",
              "      fill: #1967D2;\n",
              "      height: 32px;\n",
              "      padding: 0 0 0 0;\n",
              "      width: 32px;\n",
              "    }\n",
              "\n",
              "    .colab-df-convert:hover {\n",
              "      background-color: #E2EBFA;\n",
              "      box-shadow: 0px 1px 2px rgba(60, 64, 67, 0.3), 0px 1px 3px 1px rgba(60, 64, 67, 0.15);\n",
              "      fill: #174EA6;\n",
              "    }\n",
              "\n",
              "    .colab-df-buttons div {\n",
              "      margin-bottom: 4px;\n",
              "    }\n",
              "\n",
              "    [theme=dark] .colab-df-convert {\n",
              "      background-color: #3B4455;\n",
              "      fill: #D2E3FC;\n",
              "    }\n",
              "\n",
              "    [theme=dark] .colab-df-convert:hover {\n",
              "      background-color: #434B5C;\n",
              "      box-shadow: 0px 1px 3px 1px rgba(0, 0, 0, 0.15);\n",
              "      filter: drop-shadow(0px 1px 2px rgba(0, 0, 0, 0.3));\n",
              "      fill: #FFFFFF;\n",
              "    }\n",
              "  </style>\n",
              "\n",
              "    <script>\n",
              "      const buttonEl =\n",
              "        document.querySelector('#df-d73cbe6a-6abc-45ec-97d0-ed0a1dd88b84 button.colab-df-convert');\n",
              "      buttonEl.style.display =\n",
              "        google.colab.kernel.accessAllowed ? 'block' : 'none';\n",
              "\n",
              "      async function convertToInteractive(key) {\n",
              "        const element = document.querySelector('#df-d73cbe6a-6abc-45ec-97d0-ed0a1dd88b84');\n",
              "        const dataTable =\n",
              "          await google.colab.kernel.invokeFunction('convertToInteractive',\n",
              "                                                    [key], {});\n",
              "        if (!dataTable) return;\n",
              "\n",
              "        const docLinkHtml = 'Like what you see? Visit the ' +\n",
              "          '<a target=\"_blank\" href=https://colab.research.google.com/notebooks/data_table.ipynb>data table notebook</a>'\n",
              "          + ' to learn more about interactive tables.';\n",
              "        element.innerHTML = '';\n",
              "        dataTable['output_type'] = 'display_data';\n",
              "        await google.colab.output.renderOutput(dataTable, element);\n",
              "        const docLink = document.createElement('div');\n",
              "        docLink.innerHTML = docLinkHtml;\n",
              "        element.appendChild(docLink);\n",
              "      }\n",
              "    </script>\n",
              "  </div>\n",
              "\n",
              "\n",
              "<div id=\"df-0c54bbab-3afa-4ebf-ac82-172744daf7ec\">\n",
              "  <button class=\"colab-df-quickchart\" onclick=\"quickchart('df-0c54bbab-3afa-4ebf-ac82-172744daf7ec')\"\n",
              "            title=\"Suggest charts.\"\n",
              "            style=\"display:none;\">\n",
              "\n",
              "<svg xmlns=\"http://www.w3.org/2000/svg\" height=\"24px\"viewBox=\"0 0 24 24\"\n",
              "     width=\"24px\">\n",
              "    <g>\n",
              "        <path d=\"M19 3H5c-1.1 0-2 .9-2 2v14c0 1.1.9 2 2 2h14c1.1 0 2-.9 2-2V5c0-1.1-.9-2-2-2zM9 17H7v-7h2v7zm4 0h-2V7h2v10zm4 0h-2v-4h2v4z\"/>\n",
              "    </g>\n",
              "</svg>\n",
              "  </button>\n",
              "\n",
              "<style>\n",
              "  .colab-df-quickchart {\n",
              "      --bg-color: #E8F0FE;\n",
              "      --fill-color: #1967D2;\n",
              "      --hover-bg-color: #E2EBFA;\n",
              "      --hover-fill-color: #174EA6;\n",
              "      --disabled-fill-color: #AAA;\n",
              "      --disabled-bg-color: #DDD;\n",
              "  }\n",
              "\n",
              "  [theme=dark] .colab-df-quickchart {\n",
              "      --bg-color: #3B4455;\n",
              "      --fill-color: #D2E3FC;\n",
              "      --hover-bg-color: #434B5C;\n",
              "      --hover-fill-color: #FFFFFF;\n",
              "      --disabled-bg-color: #3B4455;\n",
              "      --disabled-fill-color: #666;\n",
              "  }\n",
              "\n",
              "  .colab-df-quickchart {\n",
              "    background-color: var(--bg-color);\n",
              "    border: none;\n",
              "    border-radius: 50%;\n",
              "    cursor: pointer;\n",
              "    display: none;\n",
              "    fill: var(--fill-color);\n",
              "    height: 32px;\n",
              "    padding: 0;\n",
              "    width: 32px;\n",
              "  }\n",
              "\n",
              "  .colab-df-quickchart:hover {\n",
              "    background-color: var(--hover-bg-color);\n",
              "    box-shadow: 0 1px 2px rgba(60, 64, 67, 0.3), 0 1px 3px 1px rgba(60, 64, 67, 0.15);\n",
              "    fill: var(--button-hover-fill-color);\n",
              "  }\n",
              "\n",
              "  .colab-df-quickchart-complete:disabled,\n",
              "  .colab-df-quickchart-complete:disabled:hover {\n",
              "    background-color: var(--disabled-bg-color);\n",
              "    fill: var(--disabled-fill-color);\n",
              "    box-shadow: none;\n",
              "  }\n",
              "\n",
              "  .colab-df-spinner {\n",
              "    border: 2px solid var(--fill-color);\n",
              "    border-color: transparent;\n",
              "    border-bottom-color: var(--fill-color);\n",
              "    animation:\n",
              "      spin 1s steps(1) infinite;\n",
              "  }\n",
              "\n",
              "  @keyframes spin {\n",
              "    0% {\n",
              "      border-color: transparent;\n",
              "      border-bottom-color: var(--fill-color);\n",
              "      border-left-color: var(--fill-color);\n",
              "    }\n",
              "    20% {\n",
              "      border-color: transparent;\n",
              "      border-left-color: var(--fill-color);\n",
              "      border-top-color: var(--fill-color);\n",
              "    }\n",
              "    30% {\n",
              "      border-color: transparent;\n",
              "      border-left-color: var(--fill-color);\n",
              "      border-top-color: var(--fill-color);\n",
              "      border-right-color: var(--fill-color);\n",
              "    }\n",
              "    40% {\n",
              "      border-color: transparent;\n",
              "      border-right-color: var(--fill-color);\n",
              "      border-top-color: var(--fill-color);\n",
              "    }\n",
              "    60% {\n",
              "      border-color: transparent;\n",
              "      border-right-color: var(--fill-color);\n",
              "    }\n",
              "    80% {\n",
              "      border-color: transparent;\n",
              "      border-right-color: var(--fill-color);\n",
              "      border-bottom-color: var(--fill-color);\n",
              "    }\n",
              "    90% {\n",
              "      border-color: transparent;\n",
              "      border-bottom-color: var(--fill-color);\n",
              "    }\n",
              "  }\n",
              "</style>\n",
              "\n",
              "  <script>\n",
              "    async function quickchart(key) {\n",
              "      const quickchartButtonEl =\n",
              "        document.querySelector('#' + key + ' button');\n",
              "      quickchartButtonEl.disabled = true;  // To prevent multiple clicks.\n",
              "      quickchartButtonEl.classList.add('colab-df-spinner');\n",
              "      try {\n",
              "        const charts = await google.colab.kernel.invokeFunction(\n",
              "            'suggestCharts', [key], {});\n",
              "      } catch (error) {\n",
              "        console.error('Error during call to suggestCharts:', error);\n",
              "      }\n",
              "      quickchartButtonEl.classList.remove('colab-df-spinner');\n",
              "      quickchartButtonEl.classList.add('colab-df-quickchart-complete');\n",
              "    }\n",
              "    (() => {\n",
              "      let quickchartButtonEl =\n",
              "        document.querySelector('#df-0c54bbab-3afa-4ebf-ac82-172744daf7ec button');\n",
              "      quickchartButtonEl.style.display =\n",
              "        google.colab.kernel.accessAllowed ? 'block' : 'none';\n",
              "    })();\n",
              "  </script>\n",
              "</div>\n",
              "    </div>\n",
              "  </div>\n"
            ]
          },
          "metadata": {},
          "execution_count": 16
        }
      ],
      "source": [
        "data = pd.read_csv('/content/drive/MyDrive/Datasets/ML_Datasets/creditcard.csv')\n",
        "data.head()"
      ]
    },
    {
      "cell_type": "markdown",
      "metadata": {
        "id": "wbIqPjsWm0tf"
      },
      "source": [
        "* Dataset is loaded and stored under 'data'\n",
        "\n",
        "* With data.head() first five rows are viewed"
      ]
    },
    {
      "cell_type": "code",
      "execution_count": null,
      "metadata": {
        "colab": {
          "base_uri": "https://localhost:8080/"
        },
        "id": "HGnqMLs2vW21",
        "outputId": "743ce99f-5593-4ee2-a756-42616804eb6f"
      },
      "outputs": [
        {
          "output_type": "execute_result",
          "data": {
            "text/plain": [
              "Index(['Time', 'V1', 'V2', 'V3', 'V4', 'V5', 'V6', 'V7', 'V8', 'V9', 'V10',\n",
              "       'V11', 'V12', 'V13', 'V14', 'V15', 'V16', 'V17', 'V18', 'V19', 'V20',\n",
              "       'V21', 'V22', 'V23', 'V24', 'V25', 'V26', 'V27', 'V28', 'Amount',\n",
              "       'Class'],\n",
              "      dtype='object')"
            ]
          },
          "metadata": {},
          "execution_count": 17
        }
      ],
      "source": [
        "data.columns"
      ]
    },
    {
      "cell_type": "code",
      "execution_count": null,
      "metadata": {
        "colab": {
          "base_uri": "https://localhost:8080/"
        },
        "id": "KL_TPk1j55UI",
        "outputId": "61249928-93c1-4b6b-88c2-2670160435fe"
      },
      "outputs": [
        {
          "output_type": "stream",
          "name": "stdout",
          "text": [
            "<class 'pandas.core.frame.DataFrame'>\n",
            "RangeIndex: 284807 entries, 0 to 284806\n",
            "Data columns (total 31 columns):\n",
            " #   Column  Non-Null Count   Dtype  \n",
            "---  ------  --------------   -----  \n",
            " 0   Time    284807 non-null  float64\n",
            " 1   V1      284807 non-null  float64\n",
            " 2   V2      284807 non-null  float64\n",
            " 3   V3      284807 non-null  float64\n",
            " 4   V4      284807 non-null  float64\n",
            " 5   V5      284807 non-null  float64\n",
            " 6   V6      284807 non-null  float64\n",
            " 7   V7      284807 non-null  float64\n",
            " 8   V8      284807 non-null  float64\n",
            " 9   V9      284807 non-null  float64\n",
            " 10  V10     284807 non-null  float64\n",
            " 11  V11     284807 non-null  float64\n",
            " 12  V12     284807 non-null  float64\n",
            " 13  V13     284807 non-null  float64\n",
            " 14  V14     284807 non-null  float64\n",
            " 15  V15     284807 non-null  float64\n",
            " 16  V16     284807 non-null  float64\n",
            " 17  V17     284807 non-null  float64\n",
            " 18  V18     284807 non-null  float64\n",
            " 19  V19     284807 non-null  float64\n",
            " 20  V20     284807 non-null  float64\n",
            " 21  V21     284807 non-null  float64\n",
            " 22  V22     284807 non-null  float64\n",
            " 23  V23     284807 non-null  float64\n",
            " 24  V24     284807 non-null  float64\n",
            " 25  V25     284807 non-null  float64\n",
            " 26  V26     284807 non-null  float64\n",
            " 27  V27     284807 non-null  float64\n",
            " 28  V28     284807 non-null  float64\n",
            " 29  Amount  284807 non-null  float64\n",
            " 30  Class   284807 non-null  int64  \n",
            "dtypes: float64(30), int64(1)\n",
            "memory usage: 67.4 MB\n"
          ]
        }
      ],
      "source": [
        "data.info()"
      ]
    },
    {
      "cell_type": "markdown",
      "metadata": {
        "id": "gd8ulFR5npqE"
      },
      "source": [
        "* There are 284807 Rows and 31 Columns present in the dataset\n",
        "* Column Class which is of int64 datatype is our target and rest others are features which is of float 64"
      ]
    },
    {
      "cell_type": "markdown",
      "metadata": {
        "id": "rRppfKUooReG"
      },
      "source": [
        "**Checking for Null Values**"
      ]
    },
    {
      "cell_type": "code",
      "execution_count": null,
      "metadata": {
        "colab": {
          "base_uri": "https://localhost:8080/"
        },
        "id": "tG9kjaol7yYu",
        "outputId": "7dd6394c-bd53-4acd-b849-89447f985eb5"
      },
      "outputs": [
        {
          "output_type": "execute_result",
          "data": {
            "text/plain": [
              "Time      0\n",
              "V1        0\n",
              "V2        0\n",
              "V3        0\n",
              "V4        0\n",
              "V5        0\n",
              "V6        0\n",
              "V7        0\n",
              "V8        0\n",
              "V9        0\n",
              "V10       0\n",
              "V11       0\n",
              "V12       0\n",
              "V13       0\n",
              "V14       0\n",
              "V15       0\n",
              "V16       0\n",
              "V17       0\n",
              "V18       0\n",
              "V19       0\n",
              "V20       0\n",
              "V21       0\n",
              "V22       0\n",
              "V23       0\n",
              "V24       0\n",
              "V25       0\n",
              "V26       0\n",
              "V27       0\n",
              "V28       0\n",
              "Amount    0\n",
              "Class     0\n",
              "dtype: int64"
            ]
          },
          "metadata": {},
          "execution_count": 19
        }
      ],
      "source": [
        "data.isna().sum()"
      ]
    },
    {
      "cell_type": "markdown",
      "metadata": {
        "id": "iftOo293pHAu"
      },
      "source": [
        "This dataset has no Null values"
      ]
    },
    {
      "cell_type": "markdown",
      "metadata": {
        "id": "WMZ_1OAOoz7-"
      },
      "source": [
        "**Getting the Statistics of our data**"
      ]
    },
    {
      "cell_type": "code",
      "execution_count": null,
      "metadata": {
        "colab": {
          "base_uri": "https://localhost:8080/",
          "height": 349
        },
        "id": "Py-4Iggh9flz",
        "outputId": "8dbe8c04-4d2c-4501-80d8-88a71f570f8e"
      },
      "outputs": [
        {
          "output_type": "execute_result",
          "data": {
            "text/plain": [
              "                Time            V1            V2            V3            V4  \\\n",
              "count  284807.000000  2.848070e+05  2.848070e+05  2.848070e+05  2.848070e+05   \n",
              "mean    94813.859575  1.168375e-15  3.416908e-16 -1.379537e-15  2.074095e-15   \n",
              "std     47488.145955  1.958696e+00  1.651309e+00  1.516255e+00  1.415869e+00   \n",
              "min         0.000000 -5.640751e+01 -7.271573e+01 -4.832559e+01 -5.683171e+00   \n",
              "25%     54201.500000 -9.203734e-01 -5.985499e-01 -8.903648e-01 -8.486401e-01   \n",
              "50%     84692.000000  1.810880e-02  6.548556e-02  1.798463e-01 -1.984653e-02   \n",
              "75%    139320.500000  1.315642e+00  8.037239e-01  1.027196e+00  7.433413e-01   \n",
              "max    172792.000000  2.454930e+00  2.205773e+01  9.382558e+00  1.687534e+01   \n",
              "\n",
              "                 V5            V6            V7            V8            V9  \\\n",
              "count  2.848070e+05  2.848070e+05  2.848070e+05  2.848070e+05  2.848070e+05   \n",
              "mean   9.604066e-16  1.487313e-15 -5.556467e-16  1.213481e-16 -2.406331e-15   \n",
              "std    1.380247e+00  1.332271e+00  1.237094e+00  1.194353e+00  1.098632e+00   \n",
              "min   -1.137433e+02 -2.616051e+01 -4.355724e+01 -7.321672e+01 -1.343407e+01   \n",
              "25%   -6.915971e-01 -7.682956e-01 -5.540759e-01 -2.086297e-01 -6.430976e-01   \n",
              "50%   -5.433583e-02 -2.741871e-01  4.010308e-02  2.235804e-02 -5.142873e-02   \n",
              "75%    6.119264e-01  3.985649e-01  5.704361e-01  3.273459e-01  5.971390e-01   \n",
              "max    3.480167e+01  7.330163e+01  1.205895e+02  2.000721e+01  1.559499e+01   \n",
              "\n",
              "       ...           V21           V22           V23           V24  \\\n",
              "count  ...  2.848070e+05  2.848070e+05  2.848070e+05  2.848070e+05   \n",
              "mean   ...  1.654067e-16 -3.568593e-16  2.578648e-16  4.473266e-15   \n",
              "std    ...  7.345240e-01  7.257016e-01  6.244603e-01  6.056471e-01   \n",
              "min    ... -3.483038e+01 -1.093314e+01 -4.480774e+01 -2.836627e+00   \n",
              "25%    ... -2.283949e-01 -5.423504e-01 -1.618463e-01 -3.545861e-01   \n",
              "50%    ... -2.945017e-02  6.781943e-03 -1.119293e-02  4.097606e-02   \n",
              "75%    ...  1.863772e-01  5.285536e-01  1.476421e-01  4.395266e-01   \n",
              "max    ...  2.720284e+01  1.050309e+01  2.252841e+01  4.584549e+00   \n",
              "\n",
              "                V25           V26           V27           V28         Amount  \\\n",
              "count  2.848070e+05  2.848070e+05  2.848070e+05  2.848070e+05  284807.000000   \n",
              "mean   5.340915e-16  1.683437e-15 -3.660091e-16 -1.227390e-16      88.349619   \n",
              "std    5.212781e-01  4.822270e-01  4.036325e-01  3.300833e-01     250.120109   \n",
              "min   -1.029540e+01 -2.604551e+00 -2.256568e+01 -1.543008e+01       0.000000   \n",
              "25%   -3.171451e-01 -3.269839e-01 -7.083953e-02 -5.295979e-02       5.600000   \n",
              "50%    1.659350e-02 -5.213911e-02  1.342146e-03  1.124383e-02      22.000000   \n",
              "75%    3.507156e-01  2.409522e-01  9.104512e-02  7.827995e-02      77.165000   \n",
              "max    7.519589e+00  3.517346e+00  3.161220e+01  3.384781e+01   25691.160000   \n",
              "\n",
              "               Class  \n",
              "count  284807.000000  \n",
              "mean        0.001727  \n",
              "std         0.041527  \n",
              "min         0.000000  \n",
              "25%         0.000000  \n",
              "50%         0.000000  \n",
              "75%         0.000000  \n",
              "max         1.000000  \n",
              "\n",
              "[8 rows x 31 columns]"
            ],
            "text/html": [
              "\n",
              "  <div id=\"df-9f742ff8-9704-4377-994b-280d50e574f5\" class=\"colab-df-container\">\n",
              "    <div>\n",
              "<style scoped>\n",
              "    .dataframe tbody tr th:only-of-type {\n",
              "        vertical-align: middle;\n",
              "    }\n",
              "\n",
              "    .dataframe tbody tr th {\n",
              "        vertical-align: top;\n",
              "    }\n",
              "\n",
              "    .dataframe thead th {\n",
              "        text-align: right;\n",
              "    }\n",
              "</style>\n",
              "<table border=\"1\" class=\"dataframe\">\n",
              "  <thead>\n",
              "    <tr style=\"text-align: right;\">\n",
              "      <th></th>\n",
              "      <th>Time</th>\n",
              "      <th>V1</th>\n",
              "      <th>V2</th>\n",
              "      <th>V3</th>\n",
              "      <th>V4</th>\n",
              "      <th>V5</th>\n",
              "      <th>V6</th>\n",
              "      <th>V7</th>\n",
              "      <th>V8</th>\n",
              "      <th>V9</th>\n",
              "      <th>...</th>\n",
              "      <th>V21</th>\n",
              "      <th>V22</th>\n",
              "      <th>V23</th>\n",
              "      <th>V24</th>\n",
              "      <th>V25</th>\n",
              "      <th>V26</th>\n",
              "      <th>V27</th>\n",
              "      <th>V28</th>\n",
              "      <th>Amount</th>\n",
              "      <th>Class</th>\n",
              "    </tr>\n",
              "  </thead>\n",
              "  <tbody>\n",
              "    <tr>\n",
              "      <th>count</th>\n",
              "      <td>284807.000000</td>\n",
              "      <td>2.848070e+05</td>\n",
              "      <td>2.848070e+05</td>\n",
              "      <td>2.848070e+05</td>\n",
              "      <td>2.848070e+05</td>\n",
              "      <td>2.848070e+05</td>\n",
              "      <td>2.848070e+05</td>\n",
              "      <td>2.848070e+05</td>\n",
              "      <td>2.848070e+05</td>\n",
              "      <td>2.848070e+05</td>\n",
              "      <td>...</td>\n",
              "      <td>2.848070e+05</td>\n",
              "      <td>2.848070e+05</td>\n",
              "      <td>2.848070e+05</td>\n",
              "      <td>2.848070e+05</td>\n",
              "      <td>2.848070e+05</td>\n",
              "      <td>2.848070e+05</td>\n",
              "      <td>2.848070e+05</td>\n",
              "      <td>2.848070e+05</td>\n",
              "      <td>284807.000000</td>\n",
              "      <td>284807.000000</td>\n",
              "    </tr>\n",
              "    <tr>\n",
              "      <th>mean</th>\n",
              "      <td>94813.859575</td>\n",
              "      <td>1.168375e-15</td>\n",
              "      <td>3.416908e-16</td>\n",
              "      <td>-1.379537e-15</td>\n",
              "      <td>2.074095e-15</td>\n",
              "      <td>9.604066e-16</td>\n",
              "      <td>1.487313e-15</td>\n",
              "      <td>-5.556467e-16</td>\n",
              "      <td>1.213481e-16</td>\n",
              "      <td>-2.406331e-15</td>\n",
              "      <td>...</td>\n",
              "      <td>1.654067e-16</td>\n",
              "      <td>-3.568593e-16</td>\n",
              "      <td>2.578648e-16</td>\n",
              "      <td>4.473266e-15</td>\n",
              "      <td>5.340915e-16</td>\n",
              "      <td>1.683437e-15</td>\n",
              "      <td>-3.660091e-16</td>\n",
              "      <td>-1.227390e-16</td>\n",
              "      <td>88.349619</td>\n",
              "      <td>0.001727</td>\n",
              "    </tr>\n",
              "    <tr>\n",
              "      <th>std</th>\n",
              "      <td>47488.145955</td>\n",
              "      <td>1.958696e+00</td>\n",
              "      <td>1.651309e+00</td>\n",
              "      <td>1.516255e+00</td>\n",
              "      <td>1.415869e+00</td>\n",
              "      <td>1.380247e+00</td>\n",
              "      <td>1.332271e+00</td>\n",
              "      <td>1.237094e+00</td>\n",
              "      <td>1.194353e+00</td>\n",
              "      <td>1.098632e+00</td>\n",
              "      <td>...</td>\n",
              "      <td>7.345240e-01</td>\n",
              "      <td>7.257016e-01</td>\n",
              "      <td>6.244603e-01</td>\n",
              "      <td>6.056471e-01</td>\n",
              "      <td>5.212781e-01</td>\n",
              "      <td>4.822270e-01</td>\n",
              "      <td>4.036325e-01</td>\n",
              "      <td>3.300833e-01</td>\n",
              "      <td>250.120109</td>\n",
              "      <td>0.041527</td>\n",
              "    </tr>\n",
              "    <tr>\n",
              "      <th>min</th>\n",
              "      <td>0.000000</td>\n",
              "      <td>-5.640751e+01</td>\n",
              "      <td>-7.271573e+01</td>\n",
              "      <td>-4.832559e+01</td>\n",
              "      <td>-5.683171e+00</td>\n",
              "      <td>-1.137433e+02</td>\n",
              "      <td>-2.616051e+01</td>\n",
              "      <td>-4.355724e+01</td>\n",
              "      <td>-7.321672e+01</td>\n",
              "      <td>-1.343407e+01</td>\n",
              "      <td>...</td>\n",
              "      <td>-3.483038e+01</td>\n",
              "      <td>-1.093314e+01</td>\n",
              "      <td>-4.480774e+01</td>\n",
              "      <td>-2.836627e+00</td>\n",
              "      <td>-1.029540e+01</td>\n",
              "      <td>-2.604551e+00</td>\n",
              "      <td>-2.256568e+01</td>\n",
              "      <td>-1.543008e+01</td>\n",
              "      <td>0.000000</td>\n",
              "      <td>0.000000</td>\n",
              "    </tr>\n",
              "    <tr>\n",
              "      <th>25%</th>\n",
              "      <td>54201.500000</td>\n",
              "      <td>-9.203734e-01</td>\n",
              "      <td>-5.985499e-01</td>\n",
              "      <td>-8.903648e-01</td>\n",
              "      <td>-8.486401e-01</td>\n",
              "      <td>-6.915971e-01</td>\n",
              "      <td>-7.682956e-01</td>\n",
              "      <td>-5.540759e-01</td>\n",
              "      <td>-2.086297e-01</td>\n",
              "      <td>-6.430976e-01</td>\n",
              "      <td>...</td>\n",
              "      <td>-2.283949e-01</td>\n",
              "      <td>-5.423504e-01</td>\n",
              "      <td>-1.618463e-01</td>\n",
              "      <td>-3.545861e-01</td>\n",
              "      <td>-3.171451e-01</td>\n",
              "      <td>-3.269839e-01</td>\n",
              "      <td>-7.083953e-02</td>\n",
              "      <td>-5.295979e-02</td>\n",
              "      <td>5.600000</td>\n",
              "      <td>0.000000</td>\n",
              "    </tr>\n",
              "    <tr>\n",
              "      <th>50%</th>\n",
              "      <td>84692.000000</td>\n",
              "      <td>1.810880e-02</td>\n",
              "      <td>6.548556e-02</td>\n",
              "      <td>1.798463e-01</td>\n",
              "      <td>-1.984653e-02</td>\n",
              "      <td>-5.433583e-02</td>\n",
              "      <td>-2.741871e-01</td>\n",
              "      <td>4.010308e-02</td>\n",
              "      <td>2.235804e-02</td>\n",
              "      <td>-5.142873e-02</td>\n",
              "      <td>...</td>\n",
              "      <td>-2.945017e-02</td>\n",
              "      <td>6.781943e-03</td>\n",
              "      <td>-1.119293e-02</td>\n",
              "      <td>4.097606e-02</td>\n",
              "      <td>1.659350e-02</td>\n",
              "      <td>-5.213911e-02</td>\n",
              "      <td>1.342146e-03</td>\n",
              "      <td>1.124383e-02</td>\n",
              "      <td>22.000000</td>\n",
              "      <td>0.000000</td>\n",
              "    </tr>\n",
              "    <tr>\n",
              "      <th>75%</th>\n",
              "      <td>139320.500000</td>\n",
              "      <td>1.315642e+00</td>\n",
              "      <td>8.037239e-01</td>\n",
              "      <td>1.027196e+00</td>\n",
              "      <td>7.433413e-01</td>\n",
              "      <td>6.119264e-01</td>\n",
              "      <td>3.985649e-01</td>\n",
              "      <td>5.704361e-01</td>\n",
              "      <td>3.273459e-01</td>\n",
              "      <td>5.971390e-01</td>\n",
              "      <td>...</td>\n",
              "      <td>1.863772e-01</td>\n",
              "      <td>5.285536e-01</td>\n",
              "      <td>1.476421e-01</td>\n",
              "      <td>4.395266e-01</td>\n",
              "      <td>3.507156e-01</td>\n",
              "      <td>2.409522e-01</td>\n",
              "      <td>9.104512e-02</td>\n",
              "      <td>7.827995e-02</td>\n",
              "      <td>77.165000</td>\n",
              "      <td>0.000000</td>\n",
              "    </tr>\n",
              "    <tr>\n",
              "      <th>max</th>\n",
              "      <td>172792.000000</td>\n",
              "      <td>2.454930e+00</td>\n",
              "      <td>2.205773e+01</td>\n",
              "      <td>9.382558e+00</td>\n",
              "      <td>1.687534e+01</td>\n",
              "      <td>3.480167e+01</td>\n",
              "      <td>7.330163e+01</td>\n",
              "      <td>1.205895e+02</td>\n",
              "      <td>2.000721e+01</td>\n",
              "      <td>1.559499e+01</td>\n",
              "      <td>...</td>\n",
              "      <td>2.720284e+01</td>\n",
              "      <td>1.050309e+01</td>\n",
              "      <td>2.252841e+01</td>\n",
              "      <td>4.584549e+00</td>\n",
              "      <td>7.519589e+00</td>\n",
              "      <td>3.517346e+00</td>\n",
              "      <td>3.161220e+01</td>\n",
              "      <td>3.384781e+01</td>\n",
              "      <td>25691.160000</td>\n",
              "      <td>1.000000</td>\n",
              "    </tr>\n",
              "  </tbody>\n",
              "</table>\n",
              "<p>8 rows × 31 columns</p>\n",
              "</div>\n",
              "    <div class=\"colab-df-buttons\">\n",
              "\n",
              "  <div class=\"colab-df-container\">\n",
              "    <button class=\"colab-df-convert\" onclick=\"convertToInteractive('df-9f742ff8-9704-4377-994b-280d50e574f5')\"\n",
              "            title=\"Convert this dataframe to an interactive table.\"\n",
              "            style=\"display:none;\">\n",
              "\n",
              "  <svg xmlns=\"http://www.w3.org/2000/svg\" height=\"24px\" viewBox=\"0 -960 960 960\">\n",
              "    <path d=\"M120-120v-720h720v720H120Zm60-500h600v-160H180v160Zm220 220h160v-160H400v160Zm0 220h160v-160H400v160ZM180-400h160v-160H180v160Zm440 0h160v-160H620v160ZM180-180h160v-160H180v160Zm440 0h160v-160H620v160Z\"/>\n",
              "  </svg>\n",
              "    </button>\n",
              "\n",
              "  <style>\n",
              "    .colab-df-container {\n",
              "      display:flex;\n",
              "      gap: 12px;\n",
              "    }\n",
              "\n",
              "    .colab-df-convert {\n",
              "      background-color: #E8F0FE;\n",
              "      border: none;\n",
              "      border-radius: 50%;\n",
              "      cursor: pointer;\n",
              "      display: none;\n",
              "      fill: #1967D2;\n",
              "      height: 32px;\n",
              "      padding: 0 0 0 0;\n",
              "      width: 32px;\n",
              "    }\n",
              "\n",
              "    .colab-df-convert:hover {\n",
              "      background-color: #E2EBFA;\n",
              "      box-shadow: 0px 1px 2px rgba(60, 64, 67, 0.3), 0px 1px 3px 1px rgba(60, 64, 67, 0.15);\n",
              "      fill: #174EA6;\n",
              "    }\n",
              "\n",
              "    .colab-df-buttons div {\n",
              "      margin-bottom: 4px;\n",
              "    }\n",
              "\n",
              "    [theme=dark] .colab-df-convert {\n",
              "      background-color: #3B4455;\n",
              "      fill: #D2E3FC;\n",
              "    }\n",
              "\n",
              "    [theme=dark] .colab-df-convert:hover {\n",
              "      background-color: #434B5C;\n",
              "      box-shadow: 0px 1px 3px 1px rgba(0, 0, 0, 0.15);\n",
              "      filter: drop-shadow(0px 1px 2px rgba(0, 0, 0, 0.3));\n",
              "      fill: #FFFFFF;\n",
              "    }\n",
              "  </style>\n",
              "\n",
              "    <script>\n",
              "      const buttonEl =\n",
              "        document.querySelector('#df-9f742ff8-9704-4377-994b-280d50e574f5 button.colab-df-convert');\n",
              "      buttonEl.style.display =\n",
              "        google.colab.kernel.accessAllowed ? 'block' : 'none';\n",
              "\n",
              "      async function convertToInteractive(key) {\n",
              "        const element = document.querySelector('#df-9f742ff8-9704-4377-994b-280d50e574f5');\n",
              "        const dataTable =\n",
              "          await google.colab.kernel.invokeFunction('convertToInteractive',\n",
              "                                                    [key], {});\n",
              "        if (!dataTable) return;\n",
              "\n",
              "        const docLinkHtml = 'Like what you see? Visit the ' +\n",
              "          '<a target=\"_blank\" href=https://colab.research.google.com/notebooks/data_table.ipynb>data table notebook</a>'\n",
              "          + ' to learn more about interactive tables.';\n",
              "        element.innerHTML = '';\n",
              "        dataTable['output_type'] = 'display_data';\n",
              "        await google.colab.output.renderOutput(dataTable, element);\n",
              "        const docLink = document.createElement('div');\n",
              "        docLink.innerHTML = docLinkHtml;\n",
              "        element.appendChild(docLink);\n",
              "      }\n",
              "    </script>\n",
              "  </div>\n",
              "\n",
              "\n",
              "<div id=\"df-586780bb-27f8-4ba6-9cbc-8f09dba65c44\">\n",
              "  <button class=\"colab-df-quickchart\" onclick=\"quickchart('df-586780bb-27f8-4ba6-9cbc-8f09dba65c44')\"\n",
              "            title=\"Suggest charts.\"\n",
              "            style=\"display:none;\">\n",
              "\n",
              "<svg xmlns=\"http://www.w3.org/2000/svg\" height=\"24px\"viewBox=\"0 0 24 24\"\n",
              "     width=\"24px\">\n",
              "    <g>\n",
              "        <path d=\"M19 3H5c-1.1 0-2 .9-2 2v14c0 1.1.9 2 2 2h14c1.1 0 2-.9 2-2V5c0-1.1-.9-2-2-2zM9 17H7v-7h2v7zm4 0h-2V7h2v10zm4 0h-2v-4h2v4z\"/>\n",
              "    </g>\n",
              "</svg>\n",
              "  </button>\n",
              "\n",
              "<style>\n",
              "  .colab-df-quickchart {\n",
              "      --bg-color: #E8F0FE;\n",
              "      --fill-color: #1967D2;\n",
              "      --hover-bg-color: #E2EBFA;\n",
              "      --hover-fill-color: #174EA6;\n",
              "      --disabled-fill-color: #AAA;\n",
              "      --disabled-bg-color: #DDD;\n",
              "  }\n",
              "\n",
              "  [theme=dark] .colab-df-quickchart {\n",
              "      --bg-color: #3B4455;\n",
              "      --fill-color: #D2E3FC;\n",
              "      --hover-bg-color: #434B5C;\n",
              "      --hover-fill-color: #FFFFFF;\n",
              "      --disabled-bg-color: #3B4455;\n",
              "      --disabled-fill-color: #666;\n",
              "  }\n",
              "\n",
              "  .colab-df-quickchart {\n",
              "    background-color: var(--bg-color);\n",
              "    border: none;\n",
              "    border-radius: 50%;\n",
              "    cursor: pointer;\n",
              "    display: none;\n",
              "    fill: var(--fill-color);\n",
              "    height: 32px;\n",
              "    padding: 0;\n",
              "    width: 32px;\n",
              "  }\n",
              "\n",
              "  .colab-df-quickchart:hover {\n",
              "    background-color: var(--hover-bg-color);\n",
              "    box-shadow: 0 1px 2px rgba(60, 64, 67, 0.3), 0 1px 3px 1px rgba(60, 64, 67, 0.15);\n",
              "    fill: var(--button-hover-fill-color);\n",
              "  }\n",
              "\n",
              "  .colab-df-quickchart-complete:disabled,\n",
              "  .colab-df-quickchart-complete:disabled:hover {\n",
              "    background-color: var(--disabled-bg-color);\n",
              "    fill: var(--disabled-fill-color);\n",
              "    box-shadow: none;\n",
              "  }\n",
              "\n",
              "  .colab-df-spinner {\n",
              "    border: 2px solid var(--fill-color);\n",
              "    border-color: transparent;\n",
              "    border-bottom-color: var(--fill-color);\n",
              "    animation:\n",
              "      spin 1s steps(1) infinite;\n",
              "  }\n",
              "\n",
              "  @keyframes spin {\n",
              "    0% {\n",
              "      border-color: transparent;\n",
              "      border-bottom-color: var(--fill-color);\n",
              "      border-left-color: var(--fill-color);\n",
              "    }\n",
              "    20% {\n",
              "      border-color: transparent;\n",
              "      border-left-color: var(--fill-color);\n",
              "      border-top-color: var(--fill-color);\n",
              "    }\n",
              "    30% {\n",
              "      border-color: transparent;\n",
              "      border-left-color: var(--fill-color);\n",
              "      border-top-color: var(--fill-color);\n",
              "      border-right-color: var(--fill-color);\n",
              "    }\n",
              "    40% {\n",
              "      border-color: transparent;\n",
              "      border-right-color: var(--fill-color);\n",
              "      border-top-color: var(--fill-color);\n",
              "    }\n",
              "    60% {\n",
              "      border-color: transparent;\n",
              "      border-right-color: var(--fill-color);\n",
              "    }\n",
              "    80% {\n",
              "      border-color: transparent;\n",
              "      border-right-color: var(--fill-color);\n",
              "      border-bottom-color: var(--fill-color);\n",
              "    }\n",
              "    90% {\n",
              "      border-color: transparent;\n",
              "      border-bottom-color: var(--fill-color);\n",
              "    }\n",
              "  }\n",
              "</style>\n",
              "\n",
              "  <script>\n",
              "    async function quickchart(key) {\n",
              "      const quickchartButtonEl =\n",
              "        document.querySelector('#' + key + ' button');\n",
              "      quickchartButtonEl.disabled = true;  // To prevent multiple clicks.\n",
              "      quickchartButtonEl.classList.add('colab-df-spinner');\n",
              "      try {\n",
              "        const charts = await google.colab.kernel.invokeFunction(\n",
              "            'suggestCharts', [key], {});\n",
              "      } catch (error) {\n",
              "        console.error('Error during call to suggestCharts:', error);\n",
              "      }\n",
              "      quickchartButtonEl.classList.remove('colab-df-spinner');\n",
              "      quickchartButtonEl.classList.add('colab-df-quickchart-complete');\n",
              "    }\n",
              "    (() => {\n",
              "      let quickchartButtonEl =\n",
              "        document.querySelector('#df-586780bb-27f8-4ba6-9cbc-8f09dba65c44 button');\n",
              "      quickchartButtonEl.style.display =\n",
              "        google.colab.kernel.accessAllowed ? 'block' : 'none';\n",
              "    })();\n",
              "  </script>\n",
              "</div>\n",
              "    </div>\n",
              "  </div>\n"
            ]
          },
          "metadata": {},
          "execution_count": 20
        }
      ],
      "source": [
        "data.describe()"
      ]
    },
    {
      "cell_type": "markdown",
      "metadata": {
        "id": "4qamUVBbpVRI"
      },
      "source": [
        "* **count**: counts the entries in a column\n",
        "* **mean**: it is the **average of the particular column.**\n",
        "* **std**: it **describes how the values are spread out around the mean**. Mathematically it is the square root of variarnce, where variance is sum of squared difference between value and mean. **Greater the standard deviation means data points are more spread out**(it means every data point values differ more from each othe) and **lesser the standard deviation data points are closer to each other.**\n",
        "* **max** **and** **min**: these shows maximum and minimum values in a column\n",
        "* **quartiles**(25%, 50%, 75%): the values here represents, **that there are(25% or 50% or 75%) data points which are lesser than mentioned value in particular column**."
      ]
    },
    {
      "cell_type": "markdown",
      "metadata": {
        "id": "hn1azDcJx90A"
      },
      "source": [
        "\n",
        "As the **Class** has two distinct values 0 and 1, where **0** means it is actual transaction and **1** means its a fraud transaction.\n",
        "\n",
        "So finding how many values of actual and real transactions gives better picture"
      ]
    },
    {
      "cell_type": "code",
      "execution_count": null,
      "metadata": {
        "colab": {
          "base_uri": "https://localhost:8080/"
        },
        "id": "Hr4k_gCF_zhO",
        "outputId": "77097526-83af-4683-c44c-ee97940e6e86"
      },
      "outputs": [
        {
          "output_type": "execute_result",
          "data": {
            "text/plain": [
              "0    284315\n",
              "1       492\n",
              "Name: Class, dtype: int64"
            ]
          },
          "metadata": {},
          "execution_count": 21
        }
      ],
      "source": [
        "data['Class'].value_counts()"
      ]
    },
    {
      "cell_type": "markdown",
      "metadata": {
        "id": "0P-zu7d2AGq8"
      },
      "source": [
        "By this we get that there are **284315** actual transactions and **492** farud transactions. Data is quite unblanced because actual transactions are higher than fraud and this might affect the model."
      ]
    },
    {
      "cell_type": "markdown",
      "metadata": {
        "id": "umUgVnkhKzzm"
      },
      "source": [
        "Due to unbalnce in actual and fraud values, create sample dataset where there is similar distrubution in actual and fraud values."
      ]
    },
    {
      "cell_type": "code",
      "execution_count": null,
      "metadata": {
        "colab": {
          "base_uri": "https://localhost:8080/",
          "height": 482
        },
        "id": "roSnktVC0fsd",
        "outputId": "95a0d708-fbbc-4c70-a589-52077e378c70"
      },
      "outputs": [
        {
          "output_type": "execute_result",
          "data": {
            "text/plain": [
              "<Axes: xlabel='Class', ylabel='count'>"
            ]
          },
          "metadata": {},
          "execution_count": 22
        },
        {
          "output_type": "display_data",
          "data": {
            "text/plain": [
              "<Figure size 800x500 with 1 Axes>"
            ],
            "image/png": "[encoded data removed]"
          },
          "metadata": {}
        }
      ],
      "source": [
        "plt.figure(figsize=(8,5))\n",
        "\n",
        "sns.countplot(x='Class', data=data)"
      ]
    },
    {
      "cell_type": "code",
      "source": [
        "sns.boxplot(x='Class', y='Amount', data=data)"
      ],
      "metadata": {
        "colab": {
          "base_uri": "https://localhost:8080/",
          "height": 466
        },
        "id": "98J_S9F2D3XN",
        "outputId": "41988172-b237-4513-9023-562848aed25b"
      },
      "execution_count": null,
      "outputs": [
        {
          "output_type": "execute_result",
          "data": {
            "text/plain": [
              "<Axes: xlabel='Class', ylabel='Amount'>"
            ]
          },
          "metadata": {},
          "execution_count": 23
        },
        {
          "output_type": "display_data",
          "data": {
            "text/plain": [
              "<Figure size 640x480 with 1 Axes>"
            ],
            "image/png": "[encoded data removed]"
          },
          "metadata": {}
        }
      ]
    },
    {
      "cell_type": "markdown",
      "metadata": {
        "id": "FXVH_TAoPAlk"
      },
      "source": [
        "## Splitting the Dataset"
      ]
    },
    {
      "cell_type": "code",
      "execution_count": null,
      "metadata": {
        "colab": {
          "base_uri": "https://localhost:8080/"
        },
        "id": "wbjQWLyAiPWh",
        "outputId": "e5ed04b2-8396-4569-ec47-11aed7bc00de"
      },
      "outputs": [
        {
          "output_type": "stream",
          "name": "stdout",
          "text": [
            "(284807, 30)\n",
            "(284807,)\n"
          ]
        }
      ],
      "source": [
        "X = data.drop(['Class'], axis = 1)\n",
        "Y = data[\"Class\"]\n",
        "print(X.shape)\n",
        "print(Y.shape)\n"
      ]
    },
    {
      "cell_type": "markdown",
      "metadata": {
        "id": "MI8Z4rZRPOgr"
      },
      "source": [
        "**X** contains only the fetaures of the data\n",
        "\n",
        "Y contains only the target or labels of the dataset"
      ]
    },
    {
      "cell_type": "code",
      "execution_count": null,
      "metadata": {
        "colab": {
          "base_uri": "https://localhost:8080/"
        },
        "id": "rLJLHw-7kb10",
        "outputId": "62f4ae5e-a641-49c8-f072-a1bd71b9ee4b"
      },
      "outputs": [
        {
          "output_type": "stream",
          "name": "stdout",
          "text": [
            "227845\n",
            "227845\n"
          ]
        }
      ],
      "source": [
        "Xtrain, Xtest, Ytrain, Ytest = train_test_split(X,Y,train_size=0.8,random_state=42)\n",
        "print(len(Xtrain))\n",
        "print(len(Ytrain))"
      ]
    },
    {
      "cell_type": "markdown",
      "metadata": {
        "id": "BBd7QBrnPeaX"
      },
      "source": [
        "* **Xtrain**: This is a training set which contains 80% of the features.\n",
        "\n",
        "* **Xtest**: This is a test set containing 20% of the features.\n",
        "* **Ytrain**: This contains the labels for the Xtrain which is 80% of the labels\n",
        "* **Ytest**: This contains the labels for the Xtest which is 20% of the labels\n"
      ]
    },
    {
      "cell_type": "markdown",
      "source": [
        "**Feature Scaling**\n",
        "\n",
        "Here Standardisation can be used because dataset is highly imbanced wnd proe to outliers, for such condition standardisation is helpful.\n"
      ],
      "metadata": {
        "id": "tm6lnbWLGIVD"
      }
    },
    {
      "cell_type": "code",
      "execution_count": null,
      "metadata": {
        "id": "fdinSbxyqcJf"
      },
      "outputs": [],
      "source": [
        "from sklearn.preprocessing import StandardScaler\n",
        "scaler = StandardScaler()\n",
        "\n",
        "#Fitimg the scaler on the training data and transforming it\n",
        "Xtrains = scaler.fit_transform(Xtrain)\n",
        "\n",
        "#Transforming the test data using the same scaler\n",
        "Xtests = scaler.transform(Xtest)"
      ]
    },
    {
      "cell_type": "markdown",
      "metadata": {
        "id": "mWUPn29YQ3yv"
      },
      "source": [
        "## **Model Fitting**"
      ]
    },
    {
      "cell_type": "markdown",
      "metadata": {
        "id": "ViDRoeBAUFqf"
      },
      "source": [
        "### **1. Logistic Regression**"
      ]
    },
    {
      "cell_type": "code",
      "execution_count": null,
      "metadata": {
        "colab": {
          "base_uri": "https://localhost:8080/",
          "height": 74
        },
        "id": "WytRwjLDlu1j",
        "outputId": "f048d2c2-d09b-4dc6-c943-36d5ffcf3184"
      },
      "outputs": [
        {
          "output_type": "execute_result",
          "data": {
            "text/plain": [
              "LogisticRegression()"
            ],
            "text/html": [
              "<style>#sk-container-id-2 {color: black;background-color: white;}#sk-container-id-2 pre{padding: 0;}#sk-container-id-2 div.sk-toggleable {background-color: white;}#sk-container-id-2 label.sk-toggleable__label {cursor: pointer;display: block;width: 100%;margin-bottom: 0;padding: 0.3em;box-sizing: border-box;text-align: center;}#sk-container-id-2 label.sk-toggleable__label-arrow:before {content: \"▸\";float: left;margin-right: 0.25em;color: #696969;}#sk-container-id-2 label.sk-toggleable__label-arrow:hover:before {color: black;}#sk-container-id-2 div.sk-estimator:hover label.sk-toggleable__label-arrow:before {color: black;}#sk-container-id-2 div.sk-toggleable__content {max-height: 0;max-width: 0;overflow: hidden;text-align: left;background-color: #f0f8ff;}#sk-container-id-2 div.sk-toggleable__content pre {margin: 0.2em;color: black;border-radius: 0.25em;background-color: #f0f8ff;}#sk-container-id-2 input.sk-toggleable__control:checked~div.sk-toggleable__content {max-height: 200px;max-width: 100%;overflow: auto;}#sk-container-id-2 input.sk-toggleable__control:checked~label.sk-toggleable__label-arrow:before {content: \"▾\";}#sk-container-id-2 div.sk-estimator input.sk-toggleable__control:checked~label.sk-toggleable__label {background-color: #d4ebff;}#sk-container-id-2 div.sk-label input.sk-toggleable__control:checked~label.sk-toggleable__label {background-color: #d4ebff;}#sk-container-id-2 input.sk-hidden--visually {border: 0;clip: rect(1px 1px 1px 1px);clip: rect(1px, 1px, 1px, 1px);height: 1px;margin: -1px;overflow: hidden;padding: 0;position: absolute;width: 1px;}#sk-container-id-2 div.sk-estimator {font-family: monospace;background-color: #f0f8ff;border: 1px dotted black;border-radius: 0.25em;box-sizing: border-box;margin-bottom: 0.5em;}#sk-container-id-2 div.sk-estimator:hover {background-color: #d4ebff;}#sk-container-id-2 div.sk-parallel-item::after {content: \"\";width: 100%;border-bottom: 1px solid gray;flex-grow: 1;}#sk-container-id-2 div.sk-label:hover label.sk-toggleable__label {background-color: #d4ebff;}#sk-container-id-2 div.sk-serial::before {content: \"\";position: absolute;border-left: 1px solid gray;box-sizing: border-box;top: 0;bottom: 0;left: 50%;z-index: 0;}#sk-container-id-2 div.sk-serial {display: flex;flex-direction: column;align-items: center;background-color: white;padding-right: 0.2em;padding-left: 0.2em;position: relative;}#sk-container-id-2 div.sk-item {position: relative;z-index: 1;}#sk-container-id-2 div.sk-parallel {display: flex;align-items: stretch;justify-content: center;background-color: white;position: relative;}#sk-container-id-2 div.sk-item::before, #sk-container-id-2 div.sk-parallel-item::before {content: \"\";position: absolute;border-left: 1px solid gray;box-sizing: border-box;top: 0;bottom: 0;left: 50%;z-index: -1;}#sk-container-id-2 div.sk-parallel-item {display: flex;flex-direction: column;z-index: 1;position: relative;background-color: white;}#sk-container-id-2 div.sk-parallel-item:first-child::after {align-self: flex-end;width: 50%;}#sk-container-id-2 div.sk-parallel-item:last-child::after {align-self: flex-start;width: 50%;}#sk-container-id-2 div.sk-parallel-item:only-child::after {width: 0;}#sk-container-id-2 div.sk-dashed-wrapped {border: 1px dashed gray;margin: 0 0.4em 0.5em 0.4em;box-sizing: border-box;padding-bottom: 0.4em;background-color: white;}#sk-container-id-2 div.sk-label label {font-family: monospace;font-weight: bold;display: inline-block;line-height: 1.2em;}#sk-container-id-2 div.sk-label-container {text-align: center;}#sk-container-id-2 div.sk-container {/* jupyter's `normalize.less` sets `[hidden] { display: none; }` but bootstrap.min.css set `[hidden] { display: none !important; }` so we also need the `!important` here to be able to override the default hidden behavior on the sphinx rendered scikit-learn.org. See: https://github.com/scikit-learn/scikit-learn/issues/21755 */display: inline-block !important;position: relative;}#sk-container-id-2 div.sk-text-repr-fallback {display: none;}</style><div id=\"sk-container-id-2\" class=\"sk-top-container\"><div class=\"sk-text-repr-fallback\"><pre>LogisticRegression()</pre><b>In a Jupyter environment, please rerun this cell to show the HTML representation or trust the notebook. <br />On GitHub, the HTML representation is unable to render, please try loading this page with nbviewer.org.</b></div><div class=\"sk-container\" hidden><div class=\"sk-item\"><div class=\"sk-estimator sk-toggleable\"><input class=\"sk-toggleable__control sk-hidden--visually\" id=\"sk-estimator-id-2\" type=\"checkbox\" checked><label for=\"sk-estimator-id-2\" class=\"sk-toggleable__label sk-toggleable__label-arrow\">LogisticRegression</label><div class=\"sk-toggleable__content\"><pre>LogisticRegression()</pre></div></div></div></div></div>"
            ]
          },
          "metadata": {},
          "execution_count": 27
        }
      ],
      "source": [
        "from sklearn.linear_model import LogisticRegression\n",
        "lr = LogisticRegression()\n",
        "lr.fit(Xtrains,Ytrain)"
      ]
    },
    {
      "cell_type": "markdown",
      "metadata": {
        "id": "brYw4GoSYSqZ"
      },
      "source": [
        "By using logistic regression model is trained on train set which is Xtrain containing 80% of data and Ytrain consits of labels related to Xtrain."
      ]
    },
    {
      "cell_type": "markdown",
      "metadata": {
        "id": "25uTvh0mlFcc"
      },
      "source": [
        "**Prediction on Test set**:"
      ]
    },
    {
      "cell_type": "code",
      "execution_count": null,
      "metadata": {
        "id": "uMAOWyThlK8p"
      },
      "outputs": [],
      "source": [
        "test_pred_y = lr.predict(Xtests)"
      ]
    },
    {
      "cell_type": "markdown",
      "metadata": {
        "id": "2wOgNJVnkohz"
      },
      "source": [
        " **Evaluation of test set**:"
      ]
    },
    {
      "cell_type": "code",
      "execution_count": null,
      "metadata": {
        "colab": {
          "base_uri": "https://localhost:8080/"
        },
        "id": "cUgyq6evvbS0",
        "outputId": "545e5085-c519-4bda-e724-783eed31e3ce"
      },
      "outputs": [
        {
          "output_type": "stream",
          "name": "stdout",
          "text": [
            "accuracy: 0.9991222218320986\n",
            "Recall Score: 0.5816326530612245\n",
            "Precision Score: 0.8636363636363636\n",
            "f1_score: 0.6951219512195121\n"
          ]
        }
      ],
      "source": [
        "print(f'accuracy: {accuracy_score(Ytest,test_pred_y)}')\n",
        "print(f'Recall Score: {recall_score(Ytest,test_pred_y)}')\n",
        "print(f'Precision Score: {precision_score(Ytest,test_pred_y)}')\n",
        "print(f'f1_score: {f1_score(Ytest,test_pred_y)}')"
      ]
    },
    {
      "cell_type": "markdown",
      "source": [
        "NOTE:\n",
        "![text_c.png](data:image/png;base64,iVBORw0KGgoAAAANSUhEUgAAAyMAAAG0CAYAAAAhL/gXAAAAAXNSR0IArs4c6QAAAARnQU1BAACxjwv8YQUAAAAJcEhZcwAADsQAAA7EAZUrDhsAAFvZSURBVHhe7d0JnE31/8fxryVC2YU/kiQpbVpoQSgtKlnSqn2T9qLSotK+l4r6Sfsm0apNKaJFSZG0KBIqS9rLdv7n/ZnvmTlz3dmYmTMzXs/H47j3fO+5d869c+Y67/PdygUhBwAAAADFrLy/BQAAAIBiRRgBAAAAkAjCCAAAAIBEEEYAAAAAJIIwAgAAACARhBEAAAAAiSCMAAAAAEgEYQQAAABAIggjAAAAABJBGAEAAACQCMIIAAAAgEQQRgAAAAAkgjACAAAAIBGEEQAAAACJIIwAAAAASARhBAAAAEAiCCMAAAAAEkEYAQAAAJAIwggAAACARBBGAAAAACSCMAIAAAAgEYQRAAAAAIkgjAAAAABIBGEEAAAAQCIIIwAAAAASQRgBAAAAkAjCCAAAAIBEEEYAAAAAJIIwAgAAACARhBEAAAAAiSCMAAAAAEgEYQQAsMGbN2+emzt3rlu1apUvybJ69Wq3dOlSv1Z2/fbbb/YZLFmyxJcAQNEjjAAA8k0n5v/++2/aJd2JfGnRvHlz16xZM/fjjz/6kgx6XzvuuKOrW7euGzx4sC8tm4YOHWqfwUUXXeRLAKDoEUYAAPn22GOPuSpVqqRdNtpoI1enTh3Xvn17d88997gVK1b4Z5Veqin44osv7P64cePsFgBQeAgjAIACq1ixomvatGm2pUGDBu7XX3917733njv77LPd7rvv7hYuXOifUTq1bNnSnX766a5169busssu86WF459//nFXXXWV69Onj1uzZo0vBYANC2EEAFBgCh+qNYgvixYtcn/++ad74oknLJh89tlndqIdBIF/VulTrlw5N3z4cDdjxgx32GGH+dLCoT4aV199tXv22WcJIwA2WIQRAEChqVq1qjv66KPdk08+aeuTJ09277zzjt0HACBVuaA0X7ICABSrhx9+2J144onW4fvbb7/1pelts8027quvvnIDBgxwN998sy917ueff3Zvvvmm22yzzVzXrl2tVkDrs2bNchtvvLHbe++93fbbb++3zvLXX3+5sWPHui+//NItXrzY1a5d27Vr184ddNBBrlKlSn6r9P744w83evRoe65qbzbffHPXvXt316pVK3tczc7UOf/77793W2yxhZVFtG/a5z333NNtueWWvnRtaqI2ZswY9/XXX7vff//d/d///Z91ftf+6fUj77//vn0uqhk577zzrOzBBx905ctnXR/U56u+N6n0Wb3xxhvuo48+siZw6quzww47uEMPPdT66+Rl6tSp9n7mz5/vNt10U7fbbru5gw8+2F7n2muvdVdccYU7/vjj7fcMAMVCYQQAgPx46KGHdAErCE+WfUnOunXrZtseddRRviTDhAkTrHyvvfYKFi1aFOy00062Hi1hGPBbZhk+fHgQnjxn2y5awmARvPfee37LtT366KNpn1uuXLngzDPPDFatWhVUqFDBysIw4p+VpWPHjvaY3ns6YYgJBg8eHIRBKtvrR0ujRo2CiRMn+q2D4PTTT0+7XXw55phj/NZZJk+ebJ9Nuu2rVasW3HfffX7LtYXhLejSpUva5+o1w4AUDBkyxNbDMOKfBQBFj2ZaAIAisXz5crvdZJNN7DaVhgI+7bTT3DfffGNX4y+//HJ35JFHur59+/otMuiK/RlnnOFWrlxptSxvvfWWmzZtmtWS7Lfffu6HH35w+++/v9V6pNLoX8cdd5zVjIThx/p/vPLKK+6RRx6xmpHwBN6dcsop69WvRfuuvh96P9p3/cyXXnrJ3XXXXS4MWm7BggVu3333dZ988knm9mGwcXfeeaeti2pGVBYt6jQfFwY4t88++1jfnCOOOMK98MIL9hmMHz/ehYHK/f3333YbBi//jCz//fefCwOVfW76XVx44YXuueeecy+++KILA4g9HgbHzP0DgGKVkUkAAMibagf0X0deNSN//vlnULNmTdv29ttv96UZopoRLXXr1g1mz57tH1nbp59+GlSsWDHYaKON0tZ+rFmzJujdu7e9Vo8ePXxphqVLlwa1a9e2x8455xxfml0YSjL3RUtBa0Yef/xxe6xy5crBm2++6UuzhAHKaoa0Teo+qFYo+rnaLid//fWX1f5ou5tvvtmXZjd06FB7vEGDBkEYLnxphquuusoeq1evXtrPetmyZcEuu+ySuS/UjAAoTtSMAAAKlfpeqAZDNSPqy6EO7TlRHwUNn5uTYcOGWY2DahNUs5FKo11peFzRPCC6yh9R/43wRNv6h9x6662+NDvVmqimYV3dcsstdqv3q9qPVOorcv/991uNTLwmpCBUC6Lan6233tpqNdLp16+fjWD2008/uSlTpvjSDCNGjLBb1YKk+6xr1apltTn6LAGguBFGAAAFpk7gjz/+eLZl5MiR1tSqTZs2FiLktttuc/Xr17f76fTo0cPfS09NsSS37bbbbjtXo0YNCyLxTvVqjiW9evWyCRlzctJJJ/l7BaOfpeGL5eSTT7bbdNRRXM2u1vVkP/oM1Kws3sk9rkKFCq5t27Z2P5qkUbR/mlVePzu30KWO/BoMAACKG2EEAFBgGl1K/SPii07Ir7vuOvf555/bSFcakemss87yz1ib+i80adLEr61N/Tw0apa8++67VruR06KTcdGIVhH1r5B0I3PFKTytC42IJQpbqSNwFaY5c+bY7XfffZf2vUdLNMFkus9An3PNmjXtfk7W9XMAgPXB0L4AgHyLhvZVTcQJJ5zgSzOoSZKG6912221tyN6chtvVvCOdOnVyjRo1sqv2OdFJ+FZbbeXX8kezv0fNuRo3bmydx1WzkNuEhRouNwoz6Yb2VcdxhSF1LI+/Z3U6V+d3zc6uSRELSk2qGjZsaPfVOT8+/G+cgkRun1MqdfiPZotXE61TTz3VhhiePn26leVk8ODB7pprrmFoXwDFipoRAECB1a1b1/pAxBddnR84cKDNW5HXvB+S08l3JP4aCgIKFbktzz//vI1eFYmerz4nucnr8ZxoThSJ91MpCtH7UH+RdO87dVEtVSS/n4EoEAFAcSOMAABKJNWyRBQyVLuR26I+FdWqVfPPcK5evXp2GzVfyklBah3iolqNRYsWWaf9ohJ9DqrpSfe+Uxd12I/k9zOQdf0cAGB9EEYAACVS5cqVM0d/mjx5st0WRNRXRDOe50bNxtaF+lio5kGd+dU8LDea02Ndax7UxErW5zNQP5Koj0s6arE9ceJEvwYAxYcwAgAosXr27Gm39957r1uxYoXdT6U+H2oapkkGdT9yyCGH2G00NG46es3bb7/drxWMOoQfdNBBdl99LXIyadIkq7VJHRFMYSuiIYhzEn0GCjRRZ/Z0NExy//79MyebFNWmRE3X7r77brtN58knn3Tz5s3zawBQfAgjAIAS69xzz3V16tSx2dU1NO2SJUv8Ixk087iGzdUwvqNGjco29K1mFVfNwD///GNhQJ3T4zRSl4b9TS0viBtvvNFVrVrVvf322zaamGpJ4j744APXu3dvux/dRhRmNMeHPPHEE3Yr6oOikbMimr+kffv2FpwUuuJD94oCmOYxueGGG+x1UmtgLrnkErvVcMvq2xMPbKLZ2PUZ6n0AQLHTaFoAAORHfmdgz000A3vTpk19Se7GjRsXbLLJJvacKlWqBOHJeXD00UcHXbt2DTbddFMrb9iwYTBr1iz/jCxTp07NnAles7h36NAh87nhyXdQrVq14P333w8qVKhg2xR0BnZ59tlnbb+0TfXq1YMDDjggOPzww4Odd97ZyrT07ds3WL16tX9GljBsZW6zzz77BD179gz+7//+L2jTpo3fIkMYTuwz13Zh4Aratm1rM7sfcsghQePGja1c7y8MZP4Z2R177LGZP6dJkyb2c/r06RO0bNnSyjSL/TXXXGP3mYEdQHEijAAA8i2JMCIKGjp5rly5sj03WrSuE/25c+f6Ldc2c+ZMCwjlypXLfJ5O6A888MBg9uzZts36hBH57LPP7AS/YsWKmT9Dy2abbRZcd911wapVq/yW2f39998WFLQ/0XO0nz169Aj+/fdfv1WG5cuXW3ipW7dutp+hpXPnzsHEiRP9lmtbs2ZNcOONNwYNGjTI9jwFn1tuucWC0pAhQ6yMMAKgODHPCACg1FCzLPVtUHMtjRSlkaPy27xo6dKlmc2fttxyS2v+Vdg0UaOafanfhkbB2nrrrXOcNT1O70cdzKtUqWJzq1SvXt0/sjYN06s+MBrFSxNH6jOImnvlRc/VZ/DLL7/Y56efFc2xAgBJIIwAAAAASAQd2AEAAAAkgjACAAAAIBGEEQAAAACJIIwAAAAASARhBAAAAEAiCCMAAAAAEkEYAQAAAJAIwggAAACARBBGAAAAACSCMAIAAAAgEYQRAAAAAIkgjAAAAABIBGEEAAAAQCIIIwAAAAASQRgBAAAAkAjCCAAAAIBEEEYAAAAAJIIwAgAAACARhBEAAAAAiSCMAAAAAEgEYQQAAABAIggjAAAAABJBGAEAAACQCMIIAAAAgEQQRgAAAAAkgjACAAAAIBGEEQAAAACJIIwAAAAASARhBAAAAEAiCCMAAAAAEkEYAQAAAJAIwggAAACARBBGAAAAACSCMAIAAAAgEYQRAAAAAIkgjAAAAABIBGEEAAAAQCIIIwAAAAASQRgBgDLin3/+8ffyZ9WqVbYAGwKOd6BkKheE/H0AwDp68cUX3Zo1a/xa+OVarpyrXbu222GHHVyNGjV8adEZMWKEO/XUU92DDz7oTjrpJF+as9WrV7vmzZu78uXLu2+++cZVqFDBPwI4N2XKFPfLL7+4Pffc02222Wa+NMt///3nXn31Vbfjjju6Zs2a+dKSi+MdKLmoGQGAQtCzZ0/Xo0ePzOWwww5zHTp0cPXr13fnn3++W7lypd+yaFSpUsVVrlzZbuOmT5/u3n33Xb+WRWFpk002cdWqVbP7QNyVV15px3FOwfbXX3+1x1955RVfkjxdDHjrrbfcF1984UuycLwDJRdhBAAKyZlnnmmhQ8uKFSvc999/7y644AJ35513uiuuuMJvVTSOOeYY9++//7qjjjrKl2Q45ZRT3B133OHXsugK8cyZM92MGTPsPpCOwsbTTz/t14rHM88847766iu/ln9///2323fffd2bb77pS7JwvAMlF3+RAFBIdMW1YsWKtmy00UZuiy22cNdff73r0qWLu++++9LWjugEKjpJ+uuvv3zp2tSidvbs2e6jjz5yP/zwgy/NomYof/75Z2ZTMQWT5cuXW7l+ru5r+f333+1xUR8TbRfR89X8Jifa13SPa78///xzq4WJvx5Kt9atW7vOnTu7c8891y1btsyX5o/6ZihQfPzxx3k+d968ebbd4sWL3W+//eZOOOEE98Ybb/hHs6jZmLZTyNdxHadjV88VHdfR8a5jNsLxDpRQ6jMCAFg/FSpUCPr37+/XsrvkkkvUNy8IT7p8SRCEJznB+eefH1SrVs0e01K1atXgnHPOCcITHL9VhvDELGjcuHHmdlratGkTfPnll36LIJgwYYKVT5o0ydYvvPDCbNtHS506dexx6dixYxAGJb8WBDvttFOwyy67+LXstO9h2ApuuukmX5LxHs477zzb7+j19X6uvfZavwVKKx0XOhbCQBFUrlw5CAOCfyTDokWL7Pc9dOhQX5JlxIgRQYMGDTKPifLlywdHH310EAZhv0WGOXPmBHvuuWe27bbccsvgoIMOCsLg4LcKgjCoB506dbLjL9q2efPmweTJk/0Wge1r9Fh86dWrl9+C4x0oqagZAYAiFl0Z3nTTTe1WdPX3nnvucQMHDnSffvqp++yzz9ygQYPcsGHDrMlVRFdn+/Tp43bddVerEfnjjz+sD4iamrz99tt+q7VdfPHFLgwrbrvttrOaGd3X8sEHH/gt1qb+AZ988onV0qR69NFH7Wf27dvXlzh38sknu5EjR7p7773XrlrPnz/fmqVdfvnl9j5Q+m299dbu0ksvdQ8//LD1x8iLBlBQ08ATTzzRzZ071y1dutQ99thj7qWXXrLySHj+Yf2q1PdEx6S20yAQqs3o3bu323jjjW07Hf9hiLBaDf38JUuWWJ+QRo0auTDg2Dby3HPP2bEr2t/oeL/77rutLB2Od6CEyMgkAID1kVPNSHjCEtSuXTvYfffdfUkQTJs2za6q3nnnnb4kSxhQ7LEpU6bYuq5Ma33s2LG2Hlm9erW/lyG1ZiSiK7/du3f3a9mlXikOTwjtKnh4guVLsrRo0SLo1q2bXwuC6dOn288LT8x8SRa9ZqtWrfwaSqOoZkRUU9eyZUurjQjDgZWlqxlZuXJlUK9eveDwww/3JVmGDBliNQ0//fSTrau2Q88fPXq0rUeuueaaoH79+n4tg7aJ15RIePJvz1+4cKEvCYIwqFvZHXfc4Uuy43gHSiZqRgCgkEyePNlddNFFtlx44YXWmVw1E+rHMXz4cL9VRqdgOe644+w2Tldi1fdEV5KladOmrm7duu6mm26yduoRXbUtbBqK+NBDD3WPP/54tvkY3nvvPRsOVVe7Iy+//LLd6ip2qr322sv6t8SHOkbppVHadPzOmTPHDR482Jeu7cMPP7R+H2EY8SVZdEyE5xxu1qxZtq6aDtExF1enTh2rddAAEJFevXpl1pSoXDUkqp2Q3PpZ5YXjHSgZCCMAUEgWLFjg3nnnHVsmTpxoTU/OPvts66C+8847+62cNe+oVauWLamqV69u4SPqpK4TwVGjRtlzNKdD48aN3bHHHutee+01e7yw6QRMJ4PxIVsfeeQR26dDDjnEl2S8B9l2223tsfhy22232YknnXvLjn322cfC8+23327NCtOJjgnNd5N6TGjoa4lCyPbbb2/BQ024dKyIHnviiSdcmzZtXKVKlaxM1JRryJAhrl27dtbU8cADD3RVq1b1j64fjncgeYQRACgk6tuh0X60TJ061UYEuvbaa619e5xqPnKjE5v4Np06dbIRh3RFWCdPurqsEzKdoBW2/fff3/ZXfQREJ4gKQ+rHEj9B1D5q1DBNtpi66Eqz2v+nznmC0k0n3TVr1rS+H6mjWUkUKtRnI/WYeOihh9zYsWMtUIhqOjRk8AsvvGD9UnTcbbnlltbPI16LqP5WCif333+/hQNNtKjwUFhDZXO8A8kjjABAMVPTK13tVc1JKnXgVbm2idOM0RpmVQFk2rRpdrJ04403Zp4AFhY1/9IVcF0pVpObMWPG2HDA8SYr0qRJE2vasttuu1lH5NRFJ455hS6ULqoFuPnmm+34u+GGG3xpFh0Totq7dMeElnizLDWF0rZdunRxLVu2zBx0QYM1RJ599lnrCK/Qctlll9nfgAKR/k4KA8c7kDzCCAAUs4MPPthuo6uxcSpTwOjevbutay6Eu+66y+7HqS+KRhrKq2mIrtbqNQpCJ2Kam0RXfLU/amKmJmJxqpmRBx54wG7jdOKoK9koe3RsdOjQIbPPRlzbtm2t6eH//vc/X5JFc4MMGDAgs5mW5u/o37+/jVClmhCNenXeeee5+vXr2+ORqE9Is2bN7DYybtw4fy+LmjQqXHC8A6ULYQQAipnay2tYUV0JvuSSS9yUKVPc+++/b1d+1fldtR66Aitq2qKTtCOOOML6omhY06eeespmVW/fvn2eTUN0UjVp0iQ3evRoa+uvpjZ5adGihdt7773tKriGD069Siy77LKLNUvTpI56H3oPGp5YJ5Xq06IOvSh7dPVf4SHehCmiiT7VLFFDT/fo0cONHz/ejlfVbqg5lI4lBQbRrWZLv/rqq22ghzPOOMOOc9W46PmRPfbYw26vvPJKq01Usy0dc6qdEc22rhoN0c9v1aqVBQoNJqHjXkP05oXjHUhYAABYb7lNepiOhkEdNGhQULNmTRsyVEuNGjWC8EQnWLFihd8qw4gRI4JmzZplble+fPmga9euNmxwJKehfRcsWGATJEbPbdq0qQ3LKqlDncaNHDnStg9POoMlS5b40uw05KsmbqxevXrm62+yySbBwIEDg1WrVvmtUBrFh/ZNJwzO9vtON+nhAw88EGy++eaZx4SO1549ewa//PKL3yIIvvvuu+D444+3yTzDwBGEodmGDg7DtT0nDOV+yyAIA4ANwRu9Xhhi7LV0q/XLL7/cbxkEYWC3oYGjbfV3EuF4B0qmcvon/IMCACRAzUOikXrULl1Xd3Oiq8I///yza9iwobWbzy99zS9cuNCGRQ1PEq3/SWHS6/744492X30A0l01x4YlOubUZEodxMOTdv9IxjGvZleqGVHH9nhfCx1LGspXgz/oudHfg5ojahAHHffxplzaplq1atleQ307tK3KGzRo4EsLD8c7ULgIIwAAoNhoCGydxN966602H08qzWiu5lDqL8IIVUDZRxgBAADFRqcd6tuhEbGGDh1qHeJr1KhhNX+aP0d9R9Rh/JlnnvHPAFCWEUYAAECx0rC+mq9Ek4PGaTJDDbWrWhM1swJQ9hFGAABAIjQS1pw5c2yoX/UH2WabbTJH3AKwYSCMAAAAAEgE84wAAAAASARhBAAAAEAiCCMAAAAAEkEYAQAAAJAIwggAAACARBBGAAAAACSCMAIAAAAgEYQRAAAAAIkgjAAAAABIBDOwAwCQg3Llyvl7GfgvEwAKFzUjAAAAABJBzQiA9ZJ65RgAUDpwCoiSgJoRAAAAAIkgjAAAAABIBGEEAAAAQCLoMwJgvTDaEMqq5cuXu1q1avk152rUqGFlQGnF9zVKImpGAAAAACSCMAIAAAAgEYQRAAAAAIkgjAAAkMa///7r72XYeOON/T0AQGEhjAAAkAZhBACKHmEEAAAAQCIIIwAAAAASQRgBAAAAkAjCCAAAAIBEEEYAAAAAJIIwAgBAGoymBQBFjzACAEAahBEAKHqEEQAAAACJIIwAAAAASARhBAAAAEAiCCMAAAAAEkEYAQAAAJAIwggAAACARBBGAABIg6F9AaDoEUYAAEiDMAIARY8wAgAAACARhBEAAAAAiSCMAAAAAEgEYQQAAABAIggjAAAAABJBGAEAIA1G0wKAokcYAQAgDcIIABQ9wggAAACARBBGAAAAACSCMAIAAAAgEYQRAAAAAIkgjAAAAABIBGEEAAAAQCIIIwAApMHQvgBQ9AgjAACkQRgBgKJHGAEAAACQCMIIAAAAgEQQRgAAa1m9erW/l7eCbAsAQFy5IOTvA0CBlStXzt/LUFq/Up566im3dOlSv7a2rbbayh1wwAF+rfiNGTPGLVy40K85V6lSJde8eXPXsWNHV7FiRV9aeLbZZhu3ww47uFGjRvmSnBVk29Lk4YcfdieeeKJfc+7444+3MqC0Kivf1yhbqBkBgNC7777rXn75ZVseffRRd/bZZ1sAiMo++eQTv2Uybr/9dnfLLbdk7s8TTzzhevfu7bbbbjs3Z84cv1Xh6dOnjzvwwAP9mnN//vmnu+iii9yPP/7oS7Kkbouy4e+//3a//fabX0OqVatW+XsA1gc1IwDWS1m80vbOO++4Tp06uUWLFrkGDRr40mTtvffebqeddnL33HOPL3F2oqj9rFu3rnvjjTd8adFQCGnSpImbMWOGa926tS8t20przYh+V88//7xfy659+/Zuxx139Gu5u+SSS9wHH3xgfw9F6cMPP3RTp051hx12mGvcuLEvzfDXX3+5hx56yB1xxBGuXr16vjR53333ndt+++3dzTff7Pr37+9LSz5qRlASUTMCAAWgk7zbbrvNffnll+60006zk6So1kQ1BxMnTrT7kW+++cadcMIJ7r///vMlGV544QV7bufOnd3pp5/uZs2a5R/Jvxo1ariTTjrJvf3229n6bfz0009u0KBBrmvXrlZjce211651hVuhQs/t0KGD69atm4Wc+JXeG2+80T377LN2XyeDF1xwgd2//PLL7f2ceeaZti7xbV999VV37rnn2v1UOnF75JFH/FrGfl566aVuv/32cz179nRDhw4tUVebS+vQvrNnz7aavXHjxrnx48dnW3744Qe/Vcnx0ksv2f7q7ynVr7/+ao/NmzfPlxSvnGoEN9tsM3fkkUe6XXbZxZcAWFeEEQAogOnTp1v/ku7du7vKlSu7atWq2a2MHj3aff3113Y/8vPPP9sJ+MqVK31Jxgn9Kaec4tq0aWNBpEKFCnZfr11Qeq6ubq5Zs8bWddKk15owYYIFEdWcPP30065t27bu999/t20UAvbaay9XtWpVCxn77ruvu/XWW+19RV577bXMkLXFFltYnxBRs7Bdd93V7bzzzrYu8W233HJLd/fdd9sV9bhly5a5K664IvPq9vz58+01FOpU47D//vvb844++mh7vCQo7fOMqLmhwnN8OeSQQ/yjJUutWrUsVD/55JO+pPDpb1DhX8defi1fvtwuPug2bpNNNnEPPviga9eunS8BsK4IIwBQQDrxHj58uF3JHzlyZIGaLX377bfu+uuvt87eF198sdWO3Hfffa5Hjx5uyJAhfqv8WbFihQUNnRBttNFGVqag07BhQ/fee++5888/3w0cONB99NFH1tzlpptusm2mTZtm4UW1IWoao+0+//xz17dvX3s8lQKNakPkqKOOcmeddZY79dRTbT1Vy5Yt3Z577mm1KXE6yaxTp46FDrnsssvc1ltvbSfIxx57rIUyXSFXDYtqbVD01DRKv8d99tnH9erVy46lvORVoyYK1arl0Im/frfq45QXhVjV5p133nm5DiQRyU+tmoK5alV0/Kpfk2o4lixZkq0pmC4g6DF9Bscdd5x9JpG8agS1Hh2rd9xxh/0dp9I+6bNQU7RISa8RBIobYQQACqh+/fp2orUuVIug5lVqb64To2hRc4+8mmq99dZbdgKkRU1EdOKvJjnxk6BXXnnFHleNSUQ1IKpx0Mm+qJZDJz8DBgzI7PxevXp1uy0M6mehE9t//vnHl2T0v9DJXrRfakKk0cnin4H6vqjmZF2arKFgFIbVf0S1PQokqjlTbd1zzz3nt1hbfmrU9HuNtlHAbNWqlR176U7UU6mPigKrwnFu8lOrppoMhXSNQKf3pwsGDzzwgHv88ccz+00oVCtc6O9BgaFmzZoWSqKmbHnVCKrGc8GCBXZf71cBO7U2TX/vqqFq0aKFrZeGGkGg2KkDOwCsK32NxJeyYMKECfZeFi1a5EuyDB48OAhPJvxadk2bNg3+97//+bUMkyZNstf6448/bH3QoEG2Hp6Ur7WEJz+2TTrhCV7Qpk2b4OKLL7bliiuuCB566KHg119/9VsEwYoVK+y1x44d60uyDB06NAhP9PxaEIwfPz7YY489gvDELGjUqFFw4YUXBn/++ad/NAg6duxoPycSnkTZa8+YMcOXZEnd9vfffw/Ck7MgPPGz9ZkzZ9pzwxMwW4/2s3z58mk/h5EjR9p2SbvjjjtsP6Pl3HPP9Y+UbG+++abt7/vvv2+febR88803fosgCENo8MYbb/i1DL179w7CQOLXAvud6ncbCYNuUK1aNb+W4bfffvP3gmDNmjX2N3DllVf6kgzDhw/PduylCk/igzCM23397emYfP311209Ou6mTp1q69K3b9+gQ4cOfi2D3p+2+/zzz209DApBw4YNgzB027roGA9DvF8LgjAoBHPnzvVrGcJAnHncSm7HvcpfffVVu6/PoUqVKsGTTz5p65FevXoFffr08Wv52/eipJ8TX4CSgJoRACggzfGRX4sXL/b3MqiPSXjCZjUTqcv333/vt0ovDA/WWVzLNddcYzUgupobUVMt9V9Jbd8u6gisdu6RLl26uClTptj+adhgXRGPN0FZH5tuuqkNOxw11dKt9l3zkYj2U5+h2tyn+xziI1hh3anmQlfzoyVqIidqFqVmQqKRodTsMAwxLgzNVpZOXjVqX3zxhXU017EVr/HS89T0Sv2n8hI1lzrjjDNsaOF08lOrpufqbyMMt7Yuelw1ExF9HtHf4meffWZNp/RauX0GOdHnoCZX8eaJ6iel2sj48UyNILA2wggAFBKdkESdxCOpHbnVuVzNQFKDh5rAaFlfOunUnCmpVKamOKKRt6ITQzWLUZt5NbuZNGmSlaUTndTld7Z1nYCpQ7JOWjUnSmrAUFOVdPv56aef+ntYX3PnzrXRoKIlPh+NTrg16plGhdIxqeZ9Gjo6N+proe0mT55szY60rn4Y6o8kGgpb1IRRQ2JHi5qDaWLOaLu8qOmX/o404EEqdUJXsFEfjvjP0KKT/yjAaPAG/Z2pT5deS8eVmmnF58PRSHcKEGo2qf4vet1GjRr5RwtOfWnUlDIKPOonpZARhb787juwoSGMAEAhUb8P9Y1QO3KdeGjSxKifRkRXq9V+XR3B1WlcV2W/+uor60A8ePBgv9W601VrtYu/9957rYZENR+qRdFcERdeeKFto9GB1AFZNSMKF9pf7as6lOdEJ63qX6DOyOo4//777/tH0tPM8M2aNbP3qWGF1VE/TuHnsccesw7Q2k+dqOpkUZ3fkxrGdUOi/hKam0bD/erz13Gq/h15ya1GTbV+okEaolquaNHfg2pj8kM1BRoG+q677nIff/yxL82Q31o11XgMGzbMnXzyyRY2FIg0At7FF19sj+u4V82I+o9of9XZXcefavXWlTrKb7755pnDV6f2k6JGEEiPMAIAheTqq6+2K8C6YlylShVrTqVQEKfHdXVZJ0i6Eq0TlG233dYmFFRIWF864br//vttbhENl6oQoaYjChu77767baPOuppEUU1iov1VZ/PcOhnrhEqjcV111VXWFEw/R01McqKTPDUj0+hEuvqc2kFetTHquKsRxLSfakKm++r4rhPJkqC0D+2bG9Vu6Ep+1EFbFIpzk1eNmkK2TrZTa7z0vIKOkKYTc3WETzdqW35q1WbOnGkd8lWmJoqqHVF40vEuqsVR7aQ6zWv0OdHvO3UeloLUCOqYjybG1M/XqHv6G4ijRhBIw/cdAYB1oq+R+ILAOr6HJzV+LWfqfP71119bh+/CtmrVKuucqw646liczsqVK60j808//eRL8qaO+HqOOqEXhmg/9XmFJ3y+tGTQYAXxY1vrpUHUgX3x4sW+ZG1du3YNunXrFvz333+2rg7fYSAMwoCa+bu9/vrrgxYtWgTLly+331MYRoOtt946CIOMrf/444+2/f7772/bS79+/YIGDRoE48aNC8KAG4ThJTjjjDOCli1b5ngcxjuwx82aNSsIw429l3gH9meeecYGOtCgDPob0sALYQAPwrCY2SE9DFZBGPSDAQMG2EAPTz31lA3aoPciOvbVGf+6666zdX0O2k+VqQN+dCzqfep1w3Bv20yZMsXKRfsVdWCPhAHHOuDvtttuNuhEqvzse1GKjuVoAUoCjkQA64X/3FBWleUwMn36dBu9rXr16kG9evUsmOhEu0aNGsF2221n23z77bdB/fr17bWee+45O3k+6aST7CQ/+kzatm1r4TSiAHLmmWfayXW0za677hrMnj3bb7G2nMKI6DG9RjyMyL333htsttlmmT+jcePGwfPPP+8fDYJPP/002H333e29tG7d2t6r9rtWrVrBRx99ZNto1CwFML1O7dq1g8svv9xGw1NY6N+/v20jd911V1CxYkX7Ofqsos9V66lhRDp37myPpY6sF8lr34tS9DOjBSgJyumf8IAEgHWipglxfKWgrFCTNDW9i6hPj8rKCk18qc7Wan6muXOiMjVJUvNB+e+//2wbzbkRNXFatWqVNWdSH5HoeanU5En9MNQ8T00Fi4L2Uz+jfPny1vFct6Lmg2rqN3bsWNe1a1crEzVFVF8pNU1Tvw1R/ye9P3U0j5oSqkzvNXo90QAAv/zyizWnjD6b9ZHTvhc1vq9REtFnBACADZBOgHXSHg8UKoufbKt/0FZbbZUZRET31Rk9pyAiCjh6XlEFEVF/Du2/AkL8ZF4DJmhkKvXLitM+aXJC9eeKqI9L8+bNs/VpUllqOFCfJr3nwggiktO+Axsi/gIAAECZoXBxyCGHuIMPPtidc8457pZbbrEaLnWIVyf9vGZ4B1C8CCMAAKBM0ehxGq1NzZA0oeHChQvdMccc42bPnm1hBUDJQZ8RAOuFNsgoqzTsq4Yzjtxwww1WBpRWfF+jJKJmBChE6iBZEOoIqgVAyVOW5xkBgJKCMIIy48UXX3TPP/985vLCCy/YZFzqzFgcRowYYZ0jR44c6Utyp9FU1MFTs17rPgAAwIaGMIIyQ7M89+jRI3M57LDDbBhHjfiiDosrV670WxYNjdCikWfiI7XI9OnT0864q+pyjdCi4TFTq86BvGhW6fxQM4zly5f7NQAAShbCCMqUM88800KHFo0V//3337sLLrjA3Xnnne6KK67wWxUNdY5Us46jjjrKl2Q45ZRT3B133OHXsmg4x5kzZ7oZM2YwtCMKZOLEiRa0NSdEnI6ne++9169lUK1bu3bt3CeffOJLAAAoOTgDQpmiGgaNga9F48Froq7rr7/edenSxd13331pa0c0Hn0UCv766y9fujZdYdZILB999JFN+JVKJ32aGCs6QVQw0RVplevn6r6W33//3R4X9TGJt0vX8zXJWE60r+ke135//vnnVguT2s4dZYuOr9NOO82GKlWIVTPE//3vf+6ggw6yydzOOussv2UG/S1ceuml7tRTT/UlQMml43tdmtbqO1AXoACUPoQRbBB2220398cff7hFixb5koxZdlVrokm5tt9+ezuR0/1zzz13rRP+N998022++eauVatWrm3btjZZ1S677GLhJKL+KZtuuqmbMmWKrV9++eWuVq1aFhDGjRtn97Vo4qzIgQceaGPhR9q3b29j4aejAKRmXXfddZcvyXgPaoKm/d5xxx3dzjvv7OrWreuuu+46vwXKmtGjR1vgVFNEef/99+33vd1227lbb73VylIdffTRNtvzq6++6kuAkkkXj9KNWDZhwgSr3R4wYIB7+umn1woeo0aNckcccYRfA1CaEEawQVi2bJndKixETjjhBHfPPfe4gQMHuk8//dTGoh80aJAbNmyYNbmKqDaiT58+btddd7VAoFCjPiC6Kv3222/7rdZ28cUXuy+//NJOElUzo/taPvjgA7/F2k466SRrTqNamlSPPvqo/cy+ffv6EudOPvlk6zCvpjm//PKLmz9/vgUsBSG9D5Q9OunShG5RP6OuXbu6uXPn2sRu8aAbp1pCBV89FyipvvvuOzuO9f0VUa2yQoaO88mTJ9sFoH79+tkFpvjFJX0vqoZbA5cAKGUCoIyoUKFC0L9/f7+WJTxBD2rXrh3svvvuviQIpk2bpsHVgzvvvNOXZAkDij02ZcoUW//qq69sfezYsbYeWb16tb+XYcKECbbdpEmTfEmGXXbZJejevbtfy65jx45BGFT8WhAsXbo0qFy5chAGCl+SpUWLFkG3bt38WhBMnz7dfl4YRHxJFr1mq1at/FrR0j7EFxStunXrBo888ohfy07HaE6/Ax0nW2yxhV9Dfpx++unZju0w4PtHUBTCkBGEocKvZbjxxhuDmjVrBjNmzPAlQbBs2bJg5513Dg4++GBfkkHf5/HveawtfjxrAUoCakZQpujK2UUXXWTLhRdeaJ3JVTOhdsjDhw/3Wzn3yiuv2O1xxx1nt3G6wqarzi+99JKtq0mWmj5p8jP1y4gURafzMDS5Qw891D3++OPZ5h9577333DfffONOPPFEX+Lcyy+/bLe9e/e22zg19dIVxNQOzijd1DxryZIldkwWlGpN1FQL+Zfa/4p5RopOeD5iTRC7d+/uSzLKNIv6Oeec41q3bu1LnTV3ve222+w7ULUpEX13qk/fvHnzfAmA0oAwgjJlwYIF7p133rFFIw4tXbrUnX322VZ9r/4UETVnivpwpKpevbqFj6iTuobrVfMWPUf9Mho3buyOPfZY99prr9njhU2BQ02uosAkjzzyiO2TmudEtD+y7bbb2mPxRf9R6z9yOrOXLVFzQ/UdKig9RwFXzQyBkmbWrFlu8eLF1vwqomatCxcutCZaqTSaXKVKldz48eN9iXPNmjVz9erVs+9/AKUHYQRlivp2fPzxx7ZMnTrVvfHGG+7aa691jRo18ltkyGteD53Ix7fp1KmTXW176623LCzoP061wR8yZIjfovDsv//+tr8PP/ywrWvELYUh9WPRf74R7aNGStJki6mLalY0CWTqnCco3RSMZV1m7Y9GcYteAyhJdHFFtc262BNREJF4WaRChQquQYMG2fqNCDWAQOlDGMEGSc1cNGmcak5Safhdlac2hdF/fp07d7YAMm3aNAsHN954o4WCwqT/kNV8TDUjulI4ZswYO5GMN9GSJk2a2EmpriRqgsfUJd7JGWWDavJ0fKQ7bvPy008/We1IPNACJYVq/apWrZqt+asGD5GcArSO5WibiI7xqAYRQOlAGMEGKRpON6p9iFOZAkbUdllzf8SH042oL4r+I8yrKZRqJ/QaBaHgoVFkVMOh/VETMzURi1PNjDzwwAN2G6cRZe6//36/hrJCJ2o67tR8paA04lbqMQSUFAocqTV+derUsdv43Exxmo8k2iaiban9A0oXwgg2SJpXRMPoavhdjWmvuUE0X8Nll11mnd9V6xG1XR47dqw777zzbHhJtUX+4osv3FNPPWWzqmtekLyaQukEUHOQqHOmhhBWf468tGjRwu29997u5ptvtuGDU2tFRPOcqFmaxuXX+9B70PDE6vCpPi3xOVBQdqj9vOatiSjoqlmKlqjGJFpXzVpEc4zsu+++fg0oWRQqdGEnXtPRsmVLC+DphjrXQA46vjX3U5xqAFMDCoASLgDKiJyG9s3JypUrg0GDBtmwkfpT0FKjRo0gPLEPVqxY4bfKMGLEiKBZs2aZ24X/QQbhSaENGxzJaWjfBQsWBG3atMl8btOmTYNFixbZY6lD+8aNHDnStq9UqVIQ/sfrS7ML//MOzj///KB69eqZr7/JJpsEAwcODFatWuW3KlrRz40WFK2vv/7ahn/+5ZdfbD0MxWv9DqKlbdu2ts28efPsOfHjFXk74ogjsn2eTz31lH8EhU3fceXKlQs+/vhjX5KhQ4cOaYdGv+2224JNN900+Ouvv3xJEPzzzz/2ffnmm2/6EqSKH89agJKgnP4JD0hgg6XmUNHIVOqHoQnicqK2yD///LNr2LChC0OML82b/szUGVOzBmsmd/U/KUx63ajTpjp7Fme/gNR+KXylFL1TTz3VRn3LTy2bnHHGGdYe//bbb/clyA/1vYpPoqdaUpWhaGhiWTWP1UzrkQ8//NBqoE8//XR35plnumrVqtngHKrB1gSJGi0xon52hx9+uNUQMnhHenxfoySimRY2eAofGoFFS25BRDQPiJoFFCSIiP4D0AhZGnqysIOIKHxE76E4gwiSoRCiUdZWr17tS3KmsK2mLtddd50vAUomhY3nnnvOr2Vo27atNTFUc1UNY66BRTSIyK233potiIgG+1CTVoIIULpQMwJgvXClDWUVNSPFS8F5p512slEK43MqRdQf5L///rPa39SLOpoXSv3oNNKhariRHt/XKImoGQEAAIlTzfRjjz2W4+AbmldENSPpapc1t9Tw4cMJIkApRM0IgPXClTaUVdSMoKzh+xolETUjAAAAABJBGAEAAACQCMIIAABpaBK+uI033tjfAwAUFsIIAABpEEYAoOgRRgAAAAAkgjACAAAAIBGEEQAAAACJIIwAAAAASARhBAAAAEAiCCMAAKTBaFoAUPQIIwAApEEYAYCiRxgBAAAAkAjCCAAAAIBEEEYAAAAAJIIwAgAAACARhBEAAAAAiSCMAAAAAEgEYQQAgDQY2hcAih5hBACANAgjAFD0CCMAAAAAEkEYAQAAAJAIwggAAACARBBGAAAAACSCMAIAAAAgEYQRAADSYDQtACh6hBGsk0WLFrm5c+e6v//+25cAQNlCGAGAokcYycOqVavsPyQtq1ev9qU45JBDXLNmzdwbb7zhSwAAAICCIYzkoV27dq5KlSq2HHnkkb4UAAAAwPoijOTim2++cZ988olfc+7ll192f/zxh18rGv/884+76qqrXJ8+fdyaNWt8KQAAAFD2EEZy8dRTT9ltp06d3FZbbWVNtZ5//nkrKyq//fabu/rqq92zzz5LGAEAAECZRhjJRRRGTj31VHfUUUfZ/SeffNJuAQAAAKyfckHI30fMp59+6tq0aWN9RX755Rc3b94817p1a1exYkUbSapu3bp+y9zNmTPHvfTSSzbylD7qRo0auY4dO7q2bdv6LTK8//777quvvrKakfPOO8/KHnzwQVe+fFZebN68uWvfvr3dX7JkiXvttdds/3r16mVl6YwbN84tW7bM7bPPPq5x48a+NLtff/3Vvfjii+7LL7+0bWvUqGHvvXv37q5q1ap+q+x23XVXa8I2duxYd9hhh/lSbIjKlSvn72XgKwVlRc2aNe07OaLvSpUBpRXf1yiJCCM5GDhwoLvllltc7969rcmUbLfddm7WrFnuvvvuc/369bOynOg/sFNOOcU999xzaf/Y99hjD3tdhRM544wz3P3332/3c3LMMce4xx9/3O5/8MEH9hr169d3P/30k5Wls9NOO7nPPvssbWhYsWKFu/baa93NN9/s/vvvP1+aRfumILXzzjv7kiyEEURS/3PbZJNNXIUKFWxRmI7up1vPb1lxbpOurDi3SVcWretiCIqPhvKNfzeqTx/D+6I0I4ygJCKMpKGPpGnTpm7+/Plu1KhR7vDDD7fya665xg0ePNjtvffebtKkSVaWjjq577777m727NmuVq1a1sxL6/oS+Pzzz90DDzxgtStbbLGFmzFjhp28FbRmZH3DiIYsVs2Hak5Uu3LSSSe5fffd1/Z3wYIF7t5773VTpkyxvjJ6HzoRiiOMIJL6nxuKj06M04WWnNbzW1bY2+g7Jq/n57Werqwo1rWvEU7cUNZwTKMkIoykoaDRoUMHV61aNWuiFTVVUljYZptt7I9ZzbaaNGli5akUPkaMGOG23HJL9/bbb1uwidNrdu7c2WpZRo8e7Xr27OkfcRYsGjZsaPdXrlyZ45XQwqgZ0boeU3Ovli1b+tIMmsxQ70/NtvSzUpuVEUYQIYxgQ1G9evX1Djzpyop7PV1ZUa+nK0td57uk6BFGUBIRRtI488wz3bBhw2xekagTeyQ6uVfTpgEDBvjSLOrLoTChmofx48e7Ll26+EeyUw2Jakf2339/X5KhOMPI0qVL3Z9//rlWWIqoj8wXX3xhzcnUXC2OMIIIJxAACks8nBQ08KSupysr7vV0ZUW9nq4sWt900039J52BU0CUBISRFAoRCgMKFelOtG+44QY3aNAgO8lXJ/dUqhFRzYhO8NVpvaCKM4zkREMK632cfvrptq5AljrhI2EEkdQwomaKq1evtkXHUnS/IGXFuU26suLcJl1ZbtvwlQ2gsPB9gpKAMJLi1VdfdQcddJBVx//8889rdVb87rvvrO+GaPQpNduKU23Jrbfe6o444gj39NNP+9L8SyKM6OdMmzbN+q0oYKhGJ/6ahBHkhmr/ZGjeo4KEmJzW05XlZ5t0ZTlto47f6R4v7vV0ZfF17SewIeH7GiUBYSTFcccd5x577DE7wVZTrXTU0VvNl6688kqboDCub9++NuLVWWed5YYOHepL8684w4hGiVFNj96n+rFENHSlRgJTfxeFFMIIckMYQVmVemxrgJHCDkBFsZ6urLjX05Xltc53R/HjM0dJQBiJ0VUxndyrmUl+tGjRwn399dd+LUPUeV23GjWroAo7jLRq1cpGw0oNDfri79q1qwUOjealEKWRunbYYQer7VHb0gMOOMC9/vrrhBHkijCCskg1T/GRtSpXrmxlKFrxcKKloIEmr/V0ZcW9nq6sqNejMvUTjeP7GiUBYSRGHbX79Olj/wHppDw3H330kf0RT5061U7MI6otGTJkiJ3Iq8lXQRV2GNHkjOqonhoann/+edejRw9rjqZQoSF8U2mixHfffZcwglwRRlAWLV++3IY6j2gyWJUBpRnf1yiJsiaxgJ10iwKJTvZzW6KhbqPnRBQQZOLEibm2P/7rr7/WKaxENtpoI7vV6+REHegVRNJRmJIDDzwwbRARzR4PAAAAFBXCiKe2wJoAUNT5PC8KLPLMM89Y1Wdkv/32c/Xq1bN5OjSDe05uv/126yivzu5xagoQ0RwfOWnQoIHdqspVc56kk1OfF9GoYfHbVApTP/74o19bW3R1hasqAAAAWFeEEW/MmDHWobt27drWQT0vmpVdJ+SarVwn7hE1q7rtttvsvmZsv++++7KFFZ28jxw50jq+q19GahMndR6PmgY88cQTdivaN43kFWnUqFHmqF4DBw50K1assPsR/Yx77rnHbbbZZr4ku+23395u33rrrbVCh97Taaed5tec+/333/29LGoeJt9++63dAgAAAAVFGPGi5la9evXKbAKVm8aNG2c2yUptqqXO4BdddJF1GOvfv79r1qyZ9c/QogBx8sknW0BRUEltIqWAoxG95IILLnCdOnWyfdJs7gpAcVdccYXdjho1yjqdH3PMMe7EE0+0Tuv6Geq7Eu1jKk1iqP1SG+idd97ZXXjhhVZL069fP5vsUP1m7r77bttWP0fbz5w509alY8eOdqs+MnpMPxcAAAAokADBzz//HFSoUEHtjYLx48f70rzdeeed9pzatWsHK1as8KVZxo4dG7Rr1862iS/bbrttMGbMGL/V2v7+++/g2GOPDcqXL5/5nDCkBGGYCf7991+/VYZhw4YF9erVy/b6Wr/nnnvs8e7du1uZ9iXVnDlzgn322Sfbc/U5HHbYYfaZ6GcddNBBmY+NHj3aPzOwx3r27Jn5WBjgglWrVvlHsSGJjoFoAcqCX3/9NdtxXaNGDf8IUHrFj2ktQEnAaFrFYPHixdaZXE2tNDN7kyZN/CO50yzwX331ldVSqAZFI1+loxoYTcCoPiZ16tRxW2+9db5qdyILFy60zurqr6KaG71GnDrJq2+JRpNJpSZeem9qNqaaFmx4GJ0FZRGjaaEs4vsaJRFhBMB64T83lEXxYdYlr2HUgdKA72uURPQZAQAgReoEhxtvvLG/BwAoTIQRAAAAAIkgjAAAAABIBGEEAAAAQCIIIwAAAAASQRgBAAAAkAjCCAAAKRhNCwCKB2EEAIAUhBEAKB6EEQAAAACJIIwAAAAASARhBAAAAEAiCCMAAAAAEkEYAQAAAJAIwggAAACARBBGAABIwdC+AFA8CCMAAKQgjABA8SCMAAAAAEgEYQQAAABAIggjAAAAABJBGAEAAACQCMIIAAAAgEQQRgAASMFoWgBQPAgjAACkIIwAQPEgjAAAAABIBGEEAAAAQCIIIwAAAAASQRgBgEKwcuVKt2TJEr9Wtqxatcrfy9vq1av9PQAA8kYYAbBBC4LA3XPPPWmXcePG+a3y9tZbb7l69er5tbLjySefdNWrV3fTpk3zJTk744wz3Oabb16g8AIA2LARRgBs0HQl/+yzz3aPPvqoGz9+fLbls88+81ttuFq3bu2OPPJI17hxY1/i3Isvvujuv/9+v5alS5cutm3FihV9CVD2UPsHFK5ygS4LAsA6KleunL+XobR9pegq/kYbbeSeffZZ17t3b19acK+99po78MADS937XxennHKKW758uRs9erQvKXuefvppd9RRR/k154444ggrKy00NPGIESP8WnodO3Z022+/vV8rfmPGjHG//PKLHU+pAfbrr79277zzjjvttNN8Scmg2r+XXnrJzZs3r1SG7tL+fY2yiZoRAMiHBQsWuIsvvtjtu+++rlu3bu7GG29cay6KVOpDMnDgQNepUyd73qWXXuqWLVvmH83w008/Wfl+++3nevbs6YYOHZprM6fnn3/eDRkyxF5Hr925c2d7nspTrVixwl7vkEMOsVqLc845x33zzTf+0Qz6WXfddZcFqX322cedeuqpbubMmf5R52bPnu1OOOEE6xPz66+/2v2JEye6jz/+2O5reeONN2zbaN/k+++/t8cWLlxo63GqWdF7jnvhhRfshF/v5/TTT3ezZs3yjySjtM8zot/9yy+/nLnceeed7pJLLslWNnfuXL91Mm6//XbXr18/u0310UcfuQsuuMCvFT9q/4DiQxgBgDzoBF7Nlb788kt37LHHuu7du7uRI0e6AQMG+C3SO+igg9ynn37q+vfvbycwkydPzvac+fPnu5133tle9/jjj3f777+/u/vuu93RRx/tt1jb9OnT3eOPP+66du1qVzl1Aq8+HT169LDnRtSURNvcdNNNrm3bthZYvv32W7fLLrtYkIgMGjTIAoteRyFAoUPbRk1RFJYeeeQRW69UqZLbddddXd26dV2tWrXsvpb69evbttq3V155xe43bdrU+tGo+Vuqa665JltTl8svv9yujrdp08b2oUKFCnZfr4d1o2NCtXXRouNWTe3iZQqpSWvYsKG76qqr3Jw5c3xJ4Rs+fLi74YYb/Fr+KIy8+eabfi3L4Ycf7m677Ta/BqBQqJkWAKwrfY3El9ImPPm2/b7rrruCMBRkW/777z/bRrcPPfSQ3Y/cc889wVZbbeXXguDVV1/N9v7/+usvW586daovyfhZf//9t18Lgr59+wYdOnTwaxn0c/W8zz//3JdkN3jwYHt87NixviTDpZdeGoQnoMG///5r69rfKlWqBD/++KOtR8KgEey5555+LQh222234JZbbvFrGX777Td/LwgmTJhgP++ff/7xJUFw8sknB7169fJrWbRvYfDxa0EQBp1g66239msZZsyYYa/3xRdf2HoY9IIwVAVvv/22rUfC8Gb7mhR9ftrPaAnDon+kdNLvpmXLln4tu/BEPXj55ZeDcePGBUcddVRw4oknBkuXLg0WL15s7/vnn3/2W2YIT9SDMED4tQz6G9HfULdu3YIwVAeXXHKJvUZu9tprr+DCCy8MOnfubEvcY489FlSrVs2vZXn++eeDPn36BJ06dQpOO+20zOMoLgzrQRi07DUvu+wy+zt99tln/aOB/U0MHDgw6NKlS3DQQQfZ+4+O72XLltl7btGiRRAGaruv5fXXX7fH9XcXhmm7/91339ljCxYssPW4F154wT6DuPzse1GLH9NagJKAmhEACKkJVnSlP1qiZiyqEVCTIwlP0Fx4QuLuu+8+98cff1hZOlWrVnXbbbedu/LKK63JyZo1a6xpRxgQ/BbORus64IADrDlXtKjWQaNy5dZMSY+rdibupJNOcr///ntmrYdqKNT0qlGjRrYeUQ3ElClTXHiiaOu77767e+CBB2z78ITMynRVvTCEJ7XW9l8/L/Lwww9bTc22225r67pCX6NGDeu7EP8cVIOTdFOtDYV+Bxo97rzzzrPjJQwWdgz8+eefVium4ypOAzuo30RETf1UC6c+KoceeqjVwnzyySf2OwxDud8qZ8OGDbNaQ9U25iY/NWhhsHbnnnuuNY2MmhTq2Ir6g+VVy0ntH5AAH0oAYJ3oayS+lDZRzUj8ymk6d955p13l33jjjYN27doF4YlMEJ6g+EfXrhkRXTnt0aNHULlyZau10NX+OXPm2GMrVqyw7cuXLx+EJyZrLeEJkm2XSle4w5MYv5ZFV3b1emPGjLF11X6EJ2V2Py6qmdCthCectl3t2rWDjTbayK4mv/nmm/aYrE/NiLRv3z4IT8LsfnjSGjRo0CAYPny4rYtqT/T66T6DLbbYwm9V/DakmpGOHTsGYSC0WoG477//3t67aq/ihgwZEoRBw68FwYMPPhiEJ+5BGCJ9SUZNyeabbx7cfffdvmRtUc2IqKZFr/HTTz/ZemrNSH5r0Jo1axbce++9fi0Ili9fbseSahwlP7WcUlZr/+LHtBagJKBmBADyEJ682JXNm2++2WpD3n//fXfwwQf7R3MWnhjZiEHq+B2NHKSO7LpiqhG8dBU2PJGzK8upi2oVcpKuRkajW0l4Ame3m2yySWZZnPZF9Lhoe3VuVo3Phx9+6LbZZhurUdEV5MKg9/HMM8+4v//+24WBzfZJ/Wci+vm6wpzuM1AneBQP1dCpJmBdqIYvDL86s82s2VJtiq7857d2S53rVeOnQRbSyW8Nmo4z1WpEVMNTuXJl9+OPP9r6utRy5kbHN7V/wPohjABAHtSEpEOHDtakIxpF56uvvrLb3EQjSalplkbh0Um/TrA1Mpeo8/q7775r9+PU6T036oiuoUXjJk2a5MqXL+923HFHW99tt93ce++9l62piOjnNWjQwCYnlGgf9Vztz7333msnTgpcOalQocJar5sTdfjVSepzzz1nJ2nqHK/Xj+iE9YcfflgreKjjvJaklPbRtArq//7v//y9glu0aJEFEh1X8UVNuaKmf3lRYFBH81GjRmVrAhbRz1CQTf0ZCjHx35WaY91xxx32N6Lgrc7x+t0pHEQ0elzLli3tb0AXGHQMrqutttrKtW/f3i5YiP4unnjiiWwXE/K778CGijACAHlo3ry5tZNXzYYoLKidudrU//bbb1YWnWCrLbqu6qufiGoZNIO5Tjh05VUnLNpus802s201dOljjz1m7fV1sqL29eq/oavMqWEjTrUqGnFLgUjt+xUwLrroIjvxj9q2q126rvxqXgRdFdZr60RPbeq1rcKH9ktXa6+44grrQ6LhYLWNhg3eeuut7XXSUU3G1KlT7SRLgSG3WhTVwGi/br31VjvJjJ+kiWqK1IZfc3p8/vnn9tnpffXq1csNHjzYb1X8NrQwohqD/NJxFafareOOOy5brVa0KIDml/p59O3b15155plr1VTktwZNQ24rALVo0cLVrl3bhoxWUNp0003t8XWt5cyNjmlq/4B1RxgBgDycddZZdgW0SZMmNjzqMcccY3Nq6MqqmrYopKiT6x577GFNMxQyVDOhYXM1u7tqRtRc5Nlnn7WJ86IT2z59+thwvJqbQ6+jE3fd1zY6ecmJajC0D/qZeq3OnTtndkSPaF81/4eaXum+XlsTyKmjbjR/g56rkzPtl5q26Or0ySefbMOgtmvXzrZJR3ORaH91NV1Dsz711FP+kfR0sqagoaCkfY1TTZM6BCuk7bTTTha09BlqnxlCNVnRQAapHdh1TMWpZkG1h6m1ZQrmCssFod+5Tuo18ENcfmvQ1ElcAVvhWgFcHcTjtSL5reXcEGr/gBJDHUcAYF3payS+lGXhiYN16l2zZo0vyeg4HglPXqzTenjy5ksC23b+/PnB3Llzsz0vbtWqVfZ4eMJir5GbeAfaf//91zrH/vrrr7aeE+23Os6r825OlixZYq+l18wPvZd58+bZ8K+FRe/j66+/zvb5JeWOO+7IdlynGwygNMmrA/vFF1/s17LTIAIaglpDVev3otdRx/R4B3Yd81WrVg1OOukkGzZXgzOos7YGeHjyySf9VmuLd2CPGzFihH3m1WId2DXQRBgy7Nj/7LPPbH327Nk2UIOGyY0cd9xxQevWrYNhw4ZZJ3gN6BAN1iDXX3990KhRo8zhiqdNm2ZD+OpnLV++3Mrkuuuus+0WLlwYLFq0yI5LSe3AHgkDd7DDDjsElSpVyjYAhOR334tD/JjWApQE1IwAQD7pyn54cmaTDUbizXfU9Emd1qMmIaJtVZuimo748+J0FVaPqzZAr5FfqslQjU3NmjV9SXra7y233DLXpjh16tSx19Jr5ofei2qG4p2F15feh5rXxD8/JEvD9b7++uv2O9HvJwweNvN/nI55NU/64IMP7FjXcaYhftXcSs3vCkrDVKsfRlx+atDUzLBVq1YuDBpWS6haRtUGqqZEzb8kP7WcQu0fUHzKKZH4+wBQYKkn2HylFC11yNXoPDrxQ9HRYAPnn3++X3M2d4XKNkSaI0fNjNTUL6/wqWZHamal+UryG2wLSn0y1G9FncDjwVUhSX8Xb7/9dmYTLFEzRDWJ1HtQABAFFvUtiV8kUD+h+MUFfZfNnz/f5gwqrNCd074XF76vURJRMwIApcg+++xj7eKB4qLaOtUI5ueEXCfZqoUrqiAiOdWgaUAFdRaPBxFRrZ/eQ3yf8qrlFGr/gOJBGAGAUoQwAqTXr18/N2HCBLfffvvZDOgaOU6jyfXo0cMGbYhGsQNQshBGAABIsaEN7VsWaEhs9dvo2LGj9W2ZMWOG1US8/PLLFkwAlEz0GQGwXmiDjLJIfXOuvvpqv+ZszhOVAaUZ39coiagZAUqQaCIsAACADQFhBKXWlClTbEjGaCjGVJpsS4+XlhluNcGWhpzUzNf5nWwLAACgNCOMoNTSDL3qmKgx6dP59ddf7XGN715SaIjMt956y33xxRe+JIuqzzV0pkaDSa1KByI6hn777Te/ln8aUpQmGQCAkoYwglJPYePpp5/2a0VPHVsffPBBt2TJEl+Sfxp/f99993VvvvmmL8mioSdnzpxpnS4LMvEdNizXX3+9u+SSS/xaBk32pknZBgwY4K644gr3zjvv+EeyaJ6Mu+++268BAFAycMaDUq1169Y2261OtJYtW+ZL8+evv/6ykVemT5++1sg5cboS/eWXX9p2f/75p3v33XdtaFWNaZ9KTcI++eQTm/grlZ4bXdHWZFu6Uq1FASWi8vi+6DlqbpYTPTfd4wpK2o/Zs2fb/qNs0AhBGhXo8ssv9yXOLViwwO2yyy4227WOUzVf7Nq1qzv66KOz9T9STaKWdMctUNLou2/lypV+LWeq7dP3KIDSizCCUk2TWA0bNsxO8i+88EJfmjtdRdbMyhpzfscdd3Q777yzTWp13XXX+S2yvPHGG65Zs2Zu2223te00odfJJ59sI+tsv/32fitnfVPU10OTfe26666uYcOGrlOnTjbLb0TzQzRu3NjuDxo0yNWqVcuW4447zsrkwAMPdAcffLBfc659+/Zur7328mvZRTMi33XXXb4kY9KvQw45xCb00n60atXKZhh+6aWX/BYozW699VbXvXt3m906omCsv4O5c+faEKZqBjh16lQ3bty4bMdG8+bNLbhvqLOIFxRD+yZn6dKlbrvttlsrOKvm+N577/VrGdS/rl27dnbxBUDpRBhBqacQcOmll7qHH37YTsTyojAxcuRI+09Nnd/nz59vE2LparOCTUTl6nOiq87ffvutBQsFFvVF6dOnj9/KuQ8++MD17NnTxrhX7YlqJSZOnGhXqS+++GK/lXPPPfdc5n+Y2l89riW3pjPqD6PnqOlWqkcffdSac/Xt29fWVUuiwKN9VYjS1cJZs2ZZiOrVq5fVAqH00hXg0aNHWxiJfPXVV+61116z2pIaNWr4UmchO12zrEMPPdSNGjXKryE3hJHk6HtTx7lmP9eFpv/973/uoIMOcjvssIM766yz/FYZNNu6vk9PPfVUXwKg1An/gwNKpS5dugRhULD74YlD0LJly6B58+ZBeFJuZYsWLVJv3WDo0KG2LmFYsLIwiPiSLHq9Vq1a+bXAnqdtFy9e7EsydO7cOTjiiCP8WhCsXr06ePLJJ/1aFm0TBiW/luGPP/6w17zjjjt8SXYdO3a0/YgsXbo0qFy5chCGJV+SpUWLFkG3bt38WhDceeedQbly5YKZM2f6kgy///57ULNmzaBfv36+pHDp/cQXFA39XvX5zps3z5cEdhyHJ8nBihUrfEmWMBDb9mFg8SVB8MUXX1jZ3LlzfQlyEoa5zGNaS05/syhcP/74Y1CpUqXg22+/tfVXX301aNq0aXDRRRcFt912m/0uUun4r1evXjBu3DhfgpzEj+l0nyWQBGpGUCaomcrw4cPdnDlzrAlVTtSMRXr37m23cWoOFe9jof4bFSpUsBl84+rUqePC/zD9WkbH86OOOsqvORee/LvHHnvMrlirX8r6qF27tl3Nfvzxx7O1/3/vvffcN99840488URfkvHe1CxLzRviNt10U7uimG4EL5QeqqnTsRY19ZOFCxda08GNNtrIl2SJtos3dVEzQokfv0BJMnbsWKvtVrNCUf8nNUFU7V90/KbS8a8mrtT6AaUTYQRlhpooqf/F7bff7j799FNfmp1O6ER9QNRPJL7cdttt1hQmap6h11N7ZAWBiP5THD9+vLVRjlNzmbPPPtteV+HlvPPOc//3f//nH10/ChxqThYfoviRRx6xfVb/kIjemwJK6vvSoqZkClcovTRAQ9WqVbONtKameQri6VSqVMlu4wMkqKmRAnZBB3sAiosGCNltt938WsbFnvxo27Zt2lHkAJR8hBGUKQoUCgPq1Jtu4kCFDbUxHjFixFqLQseLL77oqlSpYtvqP8Sbb77Z2iLvvvvurkuXLjZ6l644X3bZZbaNvP/++9ZGXyf8CiS61dVotXEuDPvvv791WFafGFGo0BXAY445JvOEU/TeVCuS7r0988wzdFwu5RQ6UmfnVy2dauLSiUZu0zYRHTv6u8gpwABJ00UVDbpRUKo1ocYPKJ0IIyhTVAugADFt2jR3ww03+NIsTZo0sRM6BY3DDjtsrUU1DdGEgxpWUjUhO+20k111U+C477773EcffWSjYEXUSVijWk2ePNn169fPgotCQmENN6krg6rxUc3I4sWL3ZgxY+wENN5ES/TeNBxmuvelRR3sUXopVKjWLl7ToWZ5Cr4afSiVBi9QLUiLFi18SVaTrXhAAUoS1drp+7Sg9Bx9t//xxx++BEBpQRhBmaOT9A4dOqw1BKSoXbE88MADdhv3wgsvuPvvv9+vOavyV/jQBIdDhw615l8KBamj6qhfiJpkxWspNHywmnOl0hVphQuFhoLQe1I4Uu2Nakg0QpbCUZzem0bSmjBhgi/JctNNN9kIXyi9NJS0grJGYIvst99+NmO/+iil0mhrHTt2zBacFa51nG6zzTa+BChZ0tUA5kdUQ0itH1D6EEZQ5uiETZ3Z4+EgomF6NSyvZrHW8JGaIO6zzz6z2o1jjz3WOrBHVCOikKHO7scff7xNKqe5TDR3g/qIRFTjoPHvdfKnq9aa+FDD7eo/RfX1UI1J1F9DHS11NVuBQuWTJk2y5+VFV7f33ntvq/V5++2316oVkdNPP92aKhx++OEWotRv5sMPP7T+Kxr6UkMSo/RSbUabNm1s/pCIBie45ppr7Per37nCho7h/v372wAKOl7iXn31VbfHHntYgEHuGNo3GTrO09X05UUTzap2JN33PoASTkNqAaVRfGjfdC677DIbujA+tK9oGODzzz8/qF69eubwhuF/YsHAgQODVatW+a2C4N133w3at29vw/2GJ3BB69atbYjJihUr2jJ27FjbTq8XBpzM1woDR3D22WcHP/zwQ7D55ptb2fjx421beeedd4L69etnbt+1a1f/yNpD+8aNHDnStg//sw2WLFniS7PTsJjdu3e3/Ytev0mTJkEYePwWhS/6OdGCovPggw8GO+64o1/LEgZkG9o0+h1st912QRha/aMZ1qxZE2y11VbBqFGjfAlyc/zxx2c7rh966CH/CIqSvjsPPvhgv5advnP1u0jniiuuCPbaay+/hpzEj+mcPkuguJXTP+EBCWxw1JQq6vCoTunxK2qq6VAzKE22pYkH4zT5ofqchCd2VksRUYdhtclXbUoYdKxMf15qxpXaBlrNEObNm2dXqDU0a2FTM7AFCxbY62t/8jsizbqI+thE+EopOmqqpxq7G2+8MdtIaqKO6TqeVSOX7ph6+umnbQZ39XkqyuOhrDjhhBNs1LpIGEasDEVLQ5QfeeSRNnmsaqP0XRb1v3v99ddtcJJoVEQd62EIt/v6Tu7WrZu76qqrbB3p8X2Nkoj/kbDBUvhQsyYtqVX7arql+UZS+2VI/fr1bWbg1KFyNQO22uJHQUT0xZ+uM6ZG9NI4+kURREQ/s2XLlhayOPEsO9TMT/1D4s0JI+qsrlGIcjqmNAePmgRyPKAkU9+3zTbbzJoUikYD1OAcWhREJFqPAvkPP/zgZsyYkfk4gNKF/5WANDQBoq66nXXWWdbxW/0tFD40j8egQYOsv4c6swPFTf1GBgwY4NfyT8NRax4coCRTqB4yZIi77rrr7Kq9+rzpNt2iYdRFfQDVpy8+ISiA0oMwAqSxxRZb2EzAaiqgEYk0E7omnNPMwCNHjrQ5OzSMLwCgcGkOpQMOOMB99913viRnarqo2j6FFwClE31GgDxohKKojbKaDyiQpLa73ZDRBhllEX1GUBbxfY2SiJoRIA+qJWnfvr0t6odBEAHKPob2BYDiQRgBACAFYQQAigdhBAAAAEAiCCMAAAAAEkEYAQAAAJAIwggAAACARBBGAAAAACSCMAIAAAAgEYQRAABSMLQvABQPwggAACkIIwBQPAgjAAAAABJBGAEAAACQCMIIAAAAgEQQRgAAAAAkgjACAAAAIBGEEQAAUjCaFgAUD8IIAAApCCMAUDwIIwAAAAASQRgBAAAAkAjCCAAAAIBEEEYAAAAAJIIwAgAAACARhBEAAAAAiSCMAACQgqF9AaB4EEYAAEhBGAGA4kEYAQAAAJAIwggAAACARBBGAAAAACSCMAIAAAAgEYQRAAAAAIkgjAAAkILRtACgeBBGAABIQRgBgOJBGAEAAACQCMIIAAAAgEQQRgAAAAAkgjACAAAAIBGEEQAAAACJIIwAAAAASARhBACAFAztCwDFo1wQ8vcBoMDKlSvn72XgKwVlAcc1yiKOa5REhBEA6yX1PzcAQOnAKSBKApppAQAAAEgEYQQAAABAIggjAAAAABJBnxEAAAAAiaBmBAAAAEAiCCMAAAAAEkEYAQAAAJAIwggAAACARBBGAAAAACSCMAIAAAAgEYQRAAAAAIkgjAAAAABIBGEEAAAAQCIIIwAAAAASQRgBAAAAkAjCCAAAAIBEEEYAAAAAJIIwAgAAACARhBEAAAAAiSCMAAAAAEgEYQQAAABAIggjAAAAABJBGAEAAACQCMIIAAAAgEQQRgAAAAAkgjACAAAAIBGEEQAAAACJIIwAAAAASARhBAAAAEAiCCMAAAAAEkEYAQAAAJAIwggAAACARBBGAAAAACSCMAIAAAAgEYQRAAAAAIkgjAAAAABIBGEEAAAAQCIIIwAAAAASQRgBAAAAkAjCCAAAAIBEEEYAAAAAJIIwAgAAACARhBEAAAAAiSCMAAAAAEgEYQQAAABAIggjAAAAABJBGAEAAACQCMIIAAAAgEQQRgAAAAAkgjACAAAAIBGEEQAAAACJIIwAAAAASARhBAAAAEAiCCMAAAAAEkEYAQAAAJAIwggAAACARBBGAAAAACSCMAIAAAAgEYQRAAAAAIkgjAAAAABIBGEEAAAAQCIIIwAAAAASQRgBAAAAkAjCCAAAAIBEEEYAAAAAJIIwAgAAACARhBEAAAAAiSCMAAAAAEgEYQQAAABAIggjAAAAABJBGAEAAACQCMIIAAAAgEQQRgAAAAAkgjACAAAAIAHO/T8J5QHzXaVsBwAAAABJRU5ErkJggg==)\n",
        "\n",
        "* In this case dataset is highly imbalanced which means that accuracy wont't help in evaluating the performance of the model. This is because accuracy gives how how model performed in predicting the values.\n",
        "\n",
        "* Precision ability of the model to predict the correct values from the positive predictions.\n",
        "\n",
        "  (True Positives)/(True Positives+False Positives)\n",
        "\n",
        "* Recall ability of the model to predict all the correct values.\n",
        "\n",
        "  (True Positives/True Positives+False Negatives)\n",
        "\n",
        "**In this fraud detection case, false positives should be eliminated as much as possible. Because False Positives means model has predicted a value to be true but in reality it is false. If my transactions are fraud but model is saying that it is actual/normal transactions then there would be big problem.**\n",
        "\n",
        "Hence in this case Recall is considered."
      ],
      "metadata": {
        "id": "tw2Qr5mG5D4H"
      }
    },
    {
      "cell_type": "code",
      "execution_count": null,
      "metadata": {
        "colab": {
          "base_uri": "https://localhost:8080/"
        },
        "id": "J8SO8XqUlb6S",
        "outputId": "72ee2c4a-1afd-418b-9d20-111a387a894a"
      },
      "outputs": [
        {
          "output_type": "stream",
          "name": "stdout",
          "text": [
            "              precision    recall  f1-score   support\n",
            "\n",
            "           0       1.00      1.00      1.00     56864\n",
            "           1       0.86      0.58      0.70        98\n",
            "\n",
            "    accuracy                           1.00     56962\n",
            "   macro avg       0.93      0.79      0.85     56962\n",
            "weighted avg       1.00      1.00      1.00     56962\n",
            "\n"
          ]
        }
      ],
      "source": [
        "print(classification_report(Ytest, test_pred_y))"
      ]
    },
    {
      "cell_type": "markdown",
      "source": [
        "Recall for Actual transaction is high(1) indicating that model is able to predict the actual transaction but for Fraud transaction Recall is quite low(0.58) indicating that model's performance for Fraud detection is low.\n",
        "\n",
        "On the other hand Precision for Actual transaction is high(1) indicating that correcct predictions made by the model. For Fraud transaction it is 86%"
      ],
      "metadata": {
        "id": "lOQ98EhNMGtp"
      }
    },
    {
      "cell_type": "code",
      "execution_count": null,
      "metadata": {
        "colab": {
          "base_uri": "https://localhost:8080/"
        },
        "id": "9gbZzqvv8rKK",
        "outputId": "5f0d3b19-11c2-4a81-a9e3-ee9407900625"
      },
      "outputs": [
        {
          "output_type": "stream",
          "name": "stdout",
          "text": [
            "[[56855     9]\n",
            " [   41    57]]\n"
          ]
        },
        {
          "output_type": "execute_result",
          "data": {
            "text/plain": [
              "0.5816326530612245"
            ]
          },
          "metadata": {},
          "execution_count": 31
        }
      ],
      "source": [
        "score=recall_score(Ytest, test_pred_y)\n",
        "matr=confusion_matrix(Ytest, test_pred_y)\n",
        "print(matr)\n",
        "score"
      ]
    },
    {
      "cell_type": "code",
      "execution_count": null,
      "metadata": {
        "colab": {
          "base_uri": "https://localhost:8080/",
          "height": 466
        },
        "id": "En2wyQLZ83Hl",
        "outputId": "bbd5a19a-c3b2-4efa-e881-01584943fbb6"
      },
      "outputs": [
        {
          "output_type": "execute_result",
          "data": {
            "text/plain": [
              "<sklearn.metrics._plot.confusion_matrix.ConfusionMatrixDisplay at 0x7cb212882cb0>"
            ]
          },
          "metadata": {},
          "execution_count": 32
        },
        {
          "output_type": "display_data",
          "data": {
            "text/plain": [
              "<Figure size 640x480 with 2 Axes>"
            ],
            "image/png": "[encoded data removed]"
          },
          "metadata": {}
        }
      ],
      "source": [
        "label=['Normal','Fraud']\n",
        "cmt=ConfusionMatrixDisplay(matr,display_labels=label)\n",
        "cmt.plot()\n"
      ]
    },
    {
      "cell_type": "markdown",
      "metadata": {
        "id": "jDWDM-5A1tmR"
      },
      "source": [
        "Imbalance of the data can be solved using various methods. In this case **Synthetic Minority Oversampling Technique** is used.\n",
        "\n",
        "Oversampling is adding extra values for the miniority class."
      ]
    },
    {
      "cell_type": "code",
      "execution_count": null,
      "metadata": {
        "id": "mNJGuCEW1tQp"
      },
      "outputs": [],
      "source": [
        "from imblearn.over_sampling import SMOTE\n",
        "\n",
        "# Apply SMOTE to handle class imbalance\n",
        "smote = SMOTE(random_state=42)\n",
        "Xtrains_re, Ytrain_re = smote.fit_resample(Xtrains, Ytrain)\n"
      ]
    },
    {
      "cell_type": "code",
      "source": [
        "Xtests_re, Ytest_re = smote.fit_resample(Xtests,Ytest)"
      ],
      "metadata": {
        "id": "PlPiY0sQQP4c"
      },
      "execution_count": null,
      "outputs": []
    },
    {
      "cell_type": "code",
      "execution_count": null,
      "metadata": {
        "colab": {
          "base_uri": "https://localhost:8080/"
        },
        "id": "PLAoOMnly06A",
        "outputId": "093bf232-ce85-4b1f-b109-f2a3e4472268"
      },
      "outputs": [
        {
          "output_type": "stream",
          "name": "stdout",
          "text": [
            "              precision    recall  f1-score   support\n",
            "\n",
            "           0       0.70      1.00      0.82     56864\n",
            "           1       1.00      0.57      0.73     56864\n",
            "\n",
            "    accuracy                           0.79    113728\n",
            "   macro avg       0.85      0.79      0.78    113728\n",
            "weighted avg       0.85      0.79      0.78    113728\n",
            "\n"
          ]
        }
      ],
      "source": [
        "#using l2 regularisation:\n",
        "l2 = LogisticRegression(penalty='l2', random_state=42)\n",
        "l2.fit(Xtrains_re, Ytrain_re)\n",
        "#Evaluate on test data:\n",
        "test_ypred_lr = lr.predict(Xtests_re)\n",
        "print(classification_report(Ytest_re, test_ypred_lr))"
      ]
    },
    {
      "cell_type": "code",
      "source": [
        "score=recall_score(Ytest_re,test_ypred_lr)\n",
        "matr=confusion_matrix(Ytest_re,test_ypred_lr)\n",
        "print(matr)\n",
        "\n",
        "label=['Actual','Fraud']\n",
        "cmt=ConfusionMatrixDisplay(matr,display_labels=label)\n",
        "cmt.plot()"
      ],
      "metadata": {
        "colab": {
          "base_uri": "https://localhost:8080/",
          "height": 501
        },
        "id": "gu6DbfPyeodA",
        "outputId": "624a9ab5-af5f-4c1b-a8d5-6e7e3fc0f3f4"
      },
      "execution_count": null,
      "outputs": [
        {
          "output_type": "stream",
          "name": "stdout",
          "text": [
            "[[56855     9]\n",
            " [24314 32550]]\n"
          ]
        },
        {
          "output_type": "execute_result",
          "data": {
            "text/plain": [
              "<sklearn.metrics._plot.confusion_matrix.ConfusionMatrixDisplay at 0x7cb211159cf0>"
            ]
          },
          "metadata": {},
          "execution_count": 68
        },
        {
          "output_type": "display_data",
          "data": {
            "text/plain": [
              "<Figure size 640x480 with 2 Axes>"
            ],
            "image/png": "[encoded data removed]"
          },
          "metadata": {}
        }
      ]
    },
    {
      "cell_type": "markdown",
      "metadata": {
        "id": "d40TulcCAO_F"
      },
      "source": [
        "### **2. Support Vector Machines**"
      ]
    },
    {
      "cell_type": "code",
      "execution_count": null,
      "metadata": {
        "colab": {
          "base_uri": "https://localhost:8080/",
          "height": 74
        },
        "id": "bVE1EoMX_52w",
        "outputId": "69718acd-c208-4fc2-c34f-8061b4bbcffc"
      },
      "outputs": [
        {
          "output_type": "execute_result",
          "data": {
            "text/plain": [
              "SVC(C=2.0, random_state=42)"
            ],
            "text/html": [
              "<style>#sk-container-id-9 {color: black;background-color: white;}#sk-container-id-9 pre{padding: 0;}#sk-container-id-9 div.sk-toggleable {background-color: white;}#sk-container-id-9 label.sk-toggleable__label {cursor: pointer;display: block;width: 100%;margin-bottom: 0;padding: 0.3em;box-sizing: border-box;text-align: center;}#sk-container-id-9 label.sk-toggleable__label-arrow:before {content: \"▸\";float: left;margin-right: 0.25em;color: #696969;}#sk-container-id-9 label.sk-toggleable__label-arrow:hover:before {color: black;}#sk-container-id-9 div.sk-estimator:hover label.sk-toggleable__label-arrow:before {color: black;}#sk-container-id-9 div.sk-toggleable__content {max-height: 0;max-width: 0;overflow: hidden;text-align: left;background-color: #f0f8ff;}#sk-container-id-9 div.sk-toggleable__content pre {margin: 0.2em;color: black;border-radius: 0.25em;background-color: #f0f8ff;}#sk-container-id-9 input.sk-toggleable__control:checked~div.sk-toggleable__content {max-height: 200px;max-width: 100%;overflow: auto;}#sk-container-id-9 input.sk-toggleable__control:checked~label.sk-toggleable__label-arrow:before {content: \"▾\";}#sk-container-id-9 div.sk-estimator input.sk-toggleable__control:checked~label.sk-toggleable__label {background-color: #d4ebff;}#sk-container-id-9 div.sk-label input.sk-toggleable__control:checked~label.sk-toggleable__label {background-color: #d4ebff;}#sk-container-id-9 input.sk-hidden--visually {border: 0;clip: rect(1px 1px 1px 1px);clip: rect(1px, 1px, 1px, 1px);height: 1px;margin: -1px;overflow: hidden;padding: 0;position: absolute;width: 1px;}#sk-container-id-9 div.sk-estimator {font-family: monospace;background-color: #f0f8ff;border: 1px dotted black;border-radius: 0.25em;box-sizing: border-box;margin-bottom: 0.5em;}#sk-container-id-9 div.sk-estimator:hover {background-color: #d4ebff;}#sk-container-id-9 div.sk-parallel-item::after {content: \"\";width: 100%;border-bottom: 1px solid gray;flex-grow: 1;}#sk-container-id-9 div.sk-label:hover label.sk-toggleable__label {background-color: #d4ebff;}#sk-container-id-9 div.sk-serial::before {content: \"\";position: absolute;border-left: 1px solid gray;box-sizing: border-box;top: 0;bottom: 0;left: 50%;z-index: 0;}#sk-container-id-9 div.sk-serial {display: flex;flex-direction: column;align-items: center;background-color: white;padding-right: 0.2em;padding-left: 0.2em;position: relative;}#sk-container-id-9 div.sk-item {position: relative;z-index: 1;}#sk-container-id-9 div.sk-parallel {display: flex;align-items: stretch;justify-content: center;background-color: white;position: relative;}#sk-container-id-9 div.sk-item::before, #sk-container-id-9 div.sk-parallel-item::before {content: \"\";position: absolute;border-left: 1px solid gray;box-sizing: border-box;top: 0;bottom: 0;left: 50%;z-index: -1;}#sk-container-id-9 div.sk-parallel-item {display: flex;flex-direction: column;z-index: 1;position: relative;background-color: white;}#sk-container-id-9 div.sk-parallel-item:first-child::after {align-self: flex-end;width: 50%;}#sk-container-id-9 div.sk-parallel-item:last-child::after {align-self: flex-start;width: 50%;}#sk-container-id-9 div.sk-parallel-item:only-child::after {width: 0;}#sk-container-id-9 div.sk-dashed-wrapped {border: 1px dashed gray;margin: 0 0.4em 0.5em 0.4em;box-sizing: border-box;padding-bottom: 0.4em;background-color: white;}#sk-container-id-9 div.sk-label label {font-family: monospace;font-weight: bold;display: inline-block;line-height: 1.2em;}#sk-container-id-9 div.sk-label-container {text-align: center;}#sk-container-id-9 div.sk-container {/* jupyter's `normalize.less` sets `[hidden] { display: none; }` but bootstrap.min.css set `[hidden] { display: none !important; }` so we also need the `!important` here to be able to override the default hidden behavior on the sphinx rendered scikit-learn.org. See: https://github.com/scikit-learn/scikit-learn/issues/21755 */display: inline-block !important;position: relative;}#sk-container-id-9 div.sk-text-repr-fallback {display: none;}</style><div id=\"sk-container-id-9\" class=\"sk-top-container\"><div class=\"sk-text-repr-fallback\"><pre>SVC(C=2.0, random_state=42)</pre><b>In a Jupyter environment, please rerun this cell to show the HTML representation or trust the notebook. <br />On GitHub, the HTML representation is unable to render, please try loading this page with nbviewer.org.</b></div><div class=\"sk-container\" hidden><div class=\"sk-item\"><div class=\"sk-estimator sk-toggleable\"><input class=\"sk-toggleable__control sk-hidden--visually\" id=\"sk-estimator-id-9\" type=\"checkbox\" checked><label for=\"sk-estimator-id-9\" class=\"sk-toggleable__label sk-toggleable__label-arrow\">SVC</label><div class=\"sk-toggleable__content\"><pre>SVC(C=2.0, random_state=42)</pre></div></div></div></div></div>"
            ]
          },
          "metadata": {},
          "execution_count": 64
        }
      ],
      "source": [
        "from sklearn.svm import SVC\n",
        "svc= SVC(C=2.0,kernel='rbf',random_state=42)\n",
        "svc.fit(Xtrains_re,Ytrain_re)"
      ]
    },
    {
      "cell_type": "code",
      "execution_count": null,
      "metadata": {
        "colab": {
          "base_uri": "https://localhost:8080/"
        },
        "id": "1WEcafmEDyvu",
        "outputId": "8ce777ff-c3cd-4220-d6d7-6a3b9e35e304"
      },
      "outputs": [
        {
          "output_type": "stream",
          "name": "stdout",
          "text": [
            "accuracy: 0.9549275464265616\n",
            "Recall: 0.9241699493528419\n",
            "Precision: 0.9847468425589326\n",
            "F1 Score: 0.9534972330581512\n"
          ]
        }
      ],
      "source": [
        "svc_ytpred = svc.predict(Xtests_re)\n",
        "print(f'accuracy: {accuracy_score(Ytest_re,svc_ytpred)}')\n",
        "print(f'Recall: {recall_score(Ytest_re,svc_ytpred)}')\n",
        "print(f'Precision: {precision_score(Ytest_re,svc_ytpred)}')"
      ]
    },
    {
      "cell_type": "code",
      "source": [
        "score=recall_score(Ytest_re,svc_ytpred)\n",
        "matr=confusion_matrix(Ytest_re,svc_ytpred)\n",
        "print(matr)\n",
        "\n",
        "label=['Actual','Fraud']\n",
        "cmt=ConfusionMatrixDisplay(matr,display_labels=label)\n",
        "cmt.plot()\n"
      ],
      "metadata": {
        "colab": {
          "base_uri": "https://localhost:8080/",
          "height": 501
        },
        "id": "TlAFHFgfQHjq",
        "outputId": "a51e95ff-301e-4b25-930c-d131e56d4759"
      },
      "execution_count": null,
      "outputs": [
        {
          "output_type": "stream",
          "name": "stdout",
          "text": [
            "[[56050   814]\n",
            " [ 4312 52552]]\n"
          ]
        },
        {
          "output_type": "execute_result",
          "data": {
            "text/plain": [
              "<sklearn.metrics._plot.confusion_matrix.ConfusionMatrixDisplay at 0x7cb2112d76a0>"
            ]
          },
          "metadata": {},
          "execution_count": 66
        },
        {
          "output_type": "display_data",
          "data": {
            "text/plain": [
              "<Figure size 640x480 with 2 Axes>"
            ],
            "image/png": "[encoded data removed]"
          },
          "metadata": {}
        }
      ]
    },
    {
      "cell_type": "markdown",
      "metadata": {
        "id": "72UIGIj1mCSj"
      },
      "source": [
        "### **2. Decission Trees:**"
      ]
    },
    {
      "cell_type": "code",
      "execution_count": null,
      "metadata": {
        "colab": {
          "base_uri": "https://localhost:8080/",
          "height": 74
        },
        "id": "NacpawVK1SrB",
        "outputId": "0ccdc5bd-d304-4de7-d170-2cf946b9497d"
      },
      "outputs": [
        {
          "output_type": "execute_result",
          "data": {
            "text/plain": [
              "DecisionTreeClassifier(random_state=42)"
            ],
            "text/html": [
              "<style>#sk-container-id-3 {color: black;background-color: white;}#sk-container-id-3 pre{padding: 0;}#sk-container-id-3 div.sk-toggleable {background-color: white;}#sk-container-id-3 label.sk-toggleable__label {cursor: pointer;display: block;width: 100%;margin-bottom: 0;padding: 0.3em;box-sizing: border-box;text-align: center;}#sk-container-id-3 label.sk-toggleable__label-arrow:before {content: \"▸\";float: left;margin-right: 0.25em;color: #696969;}#sk-container-id-3 label.sk-toggleable__label-arrow:hover:before {color: black;}#sk-container-id-3 div.sk-estimator:hover label.sk-toggleable__label-arrow:before {color: black;}#sk-container-id-3 div.sk-toggleable__content {max-height: 0;max-width: 0;overflow: hidden;text-align: left;background-color: #f0f8ff;}#sk-container-id-3 div.sk-toggleable__content pre {margin: 0.2em;color: black;border-radius: 0.25em;background-color: #f0f8ff;}#sk-container-id-3 input.sk-toggleable__control:checked~div.sk-toggleable__content {max-height: 200px;max-width: 100%;overflow: auto;}#sk-container-id-3 input.sk-toggleable__control:checked~label.sk-toggleable__label-arrow:before {content: \"▾\";}#sk-container-id-3 div.sk-estimator input.sk-toggleable__control:checked~label.sk-toggleable__label {background-color: #d4ebff;}#sk-container-id-3 div.sk-label input.sk-toggleable__control:checked~label.sk-toggleable__label {background-color: #d4ebff;}#sk-container-id-3 input.sk-hidden--visually {border: 0;clip: rect(1px 1px 1px 1px);clip: rect(1px, 1px, 1px, 1px);height: 1px;margin: -1px;overflow: hidden;padding: 0;position: absolute;width: 1px;}#sk-container-id-3 div.sk-estimator {font-family: monospace;background-color: #f0f8ff;border: 1px dotted black;border-radius: 0.25em;box-sizing: border-box;margin-bottom: 0.5em;}#sk-container-id-3 div.sk-estimator:hover {background-color: #d4ebff;}#sk-container-id-3 div.sk-parallel-item::after {content: \"\";width: 100%;border-bottom: 1px solid gray;flex-grow: 1;}#sk-container-id-3 div.sk-label:hover label.sk-toggleable__label {background-color: #d4ebff;}#sk-container-id-3 div.sk-serial::before {content: \"\";position: absolute;border-left: 1px solid gray;box-sizing: border-box;top: 0;bottom: 0;left: 50%;z-index: 0;}#sk-container-id-3 div.sk-serial {display: flex;flex-direction: column;align-items: center;background-color: white;padding-right: 0.2em;padding-left: 0.2em;position: relative;}#sk-container-id-3 div.sk-item {position: relative;z-index: 1;}#sk-container-id-3 div.sk-parallel {display: flex;align-items: stretch;justify-content: center;background-color: white;position: relative;}#sk-container-id-3 div.sk-item::before, #sk-container-id-3 div.sk-parallel-item::before {content: \"\";position: absolute;border-left: 1px solid gray;box-sizing: border-box;top: 0;bottom: 0;left: 50%;z-index: -1;}#sk-container-id-3 div.sk-parallel-item {display: flex;flex-direction: column;z-index: 1;position: relative;background-color: white;}#sk-container-id-3 div.sk-parallel-item:first-child::after {align-self: flex-end;width: 50%;}#sk-container-id-3 div.sk-parallel-item:last-child::after {align-self: flex-start;width: 50%;}#sk-container-id-3 div.sk-parallel-item:only-child::after {width: 0;}#sk-container-id-3 div.sk-dashed-wrapped {border: 1px dashed gray;margin: 0 0.4em 0.5em 0.4em;box-sizing: border-box;padding-bottom: 0.4em;background-color: white;}#sk-container-id-3 div.sk-label label {font-family: monospace;font-weight: bold;display: inline-block;line-height: 1.2em;}#sk-container-id-3 div.sk-label-container {text-align: center;}#sk-container-id-3 div.sk-container {/* jupyter's `normalize.less` sets `[hidden] { display: none; }` but bootstrap.min.css set `[hidden] { display: none !important; }` so we also need the `!important` here to be able to override the default hidden behavior on the sphinx rendered scikit-learn.org. See: https://github.com/scikit-learn/scikit-learn/issues/21755 */display: inline-block !important;position: relative;}#sk-container-id-3 div.sk-text-repr-fallback {display: none;}</style><div id=\"sk-container-id-3\" class=\"sk-top-container\"><div class=\"sk-text-repr-fallback\"><pre>DecisionTreeClassifier(random_state=42)</pre><b>In a Jupyter environment, please rerun this cell to show the HTML representation or trust the notebook. <br />On GitHub, the HTML representation is unable to render, please try loading this page with nbviewer.org.</b></div><div class=\"sk-container\" hidden><div class=\"sk-item\"><div class=\"sk-estimator sk-toggleable\"><input class=\"sk-toggleable__control sk-hidden--visually\" id=\"sk-estimator-id-3\" type=\"checkbox\" checked><label for=\"sk-estimator-id-3\" class=\"sk-toggleable__label sk-toggleable__label-arrow\">DecisionTreeClassifier</label><div class=\"sk-toggleable__content\"><pre>DecisionTreeClassifier(random_state=42)</pre></div></div></div></div></div>"
            ]
          },
          "metadata": {},
          "execution_count": 39
        }
      ],
      "source": [
        "dt = DecisionTreeClassifier(random_state=42)\n",
        "dt.fit(Xtrains_re,Ytrain_re)"
      ]
    },
    {
      "cell_type": "code",
      "execution_count": null,
      "metadata": {
        "colab": {
          "base_uri": "https://localhost:8080/"
        },
        "id": "PdtrGMA5aCqy",
        "outputId": "bbb67050-5711-4528-cb5d-a13d9d73618c"
      },
      "outputs": [
        {
          "output_type": "stream",
          "name": "stdout",
          "text": [
            "accuracy: 0.9073051491277434\n",
            "Recall Score: 0.8165974957794034\n",
            "Precision Score: 0.9975723983844633\n",
            "f1_score: 0.8980582524271845\n"
          ]
        }
      ],
      "source": [
        "dt_test_ypred = dt.predict(Xtests_re)\n",
        "print(f'accuracy: {accuracy_score(Ytest_re,dt_test_ypred)}')\n",
        "print(f'Recall Score: {recall_score(Ytest_re,dt_test_ypred)}')\n",
        "print(f'Precision Score: {precision_score(Ytest_re,dt_test_ypred)}')\n",
        "print(f'f1_score: {f1_score(Ytest_re,dt_test_ypred)}')"
      ]
    },
    {
      "cell_type": "markdown",
      "source": [
        "By changing the parameters of Decision tree"
      ],
      "metadata": {
        "id": "umm9GILHNRvZ"
      }
    },
    {
      "cell_type": "code",
      "execution_count": null,
      "metadata": {
        "colab": {
          "base_uri": "https://localhost:8080/"
        },
        "id": "6JfrWo0TbitU",
        "outputId": "70f56b80-3de7-45b5-b989-3e85e79ce1d7"
      },
      "outputs": [
        {
          "output_type": "stream",
          "name": "stdout",
          "text": [
            "Model score on train set: 0.9939789229328515\n"
          ]
        }
      ],
      "source": [
        "dt2 = DecisionTreeClassifier(criterion='entropy',splitter='best', max_depth=12,random_state=42)\n",
        "#dt2 = DecisionTreeClassifier(max_leaf_nodes=25,random_state=42)\n",
        "dt2.fit(Xtrains_re,Ytrain_re)\n",
        "print(f'Model score on train set: {dt2.score(Xtrains_re,Ytrain_re)}')"
      ]
    },
    {
      "cell_type": "code",
      "execution_count": null,
      "metadata": {
        "id": "Q7EzuqwJhVCZ"
      },
      "outputs": [],
      "source": [
        "dt2_test_ypred = dt2.predict(Xtests_re)"
      ]
    },
    {
      "cell_type": "code",
      "execution_count": null,
      "metadata": {
        "colab": {
          "base_uri": "https://localhost:8080/"
        },
        "id": "t7upVnPNht18",
        "outputId": "7f6e3b02-fde8-4a84-b680-bdf1b359d14f"
      },
      "outputs": [
        {
          "output_type": "stream",
          "name": "stdout",
          "text": [
            "accuracy: 0.9272914321890827\n",
            "Recall Score: 0.8636747326955543\n",
            "Precision Score: 0.9895827036611659\n",
            "f1_score: 0.9223517038678598\n"
          ]
        }
      ],
      "source": [
        "print(f'accuracy: {accuracy_score(Ytest_re,dt2_test_ypred)}')\n",
        "print(f'Recall Score: {recall_score(Ytest_re,dt2_test_ypred)}')\n",
        "print(f'Precision Score: {precision_score(Ytest_re,dt2_test_ypred)}')\n",
        "print(f'f1_score: {f1_score(Ytest_re,dt2_test_ypred)}')"
      ]
    },
    {
      "cell_type": "code",
      "execution_count": null,
      "metadata": {
        "colab": {
          "base_uri": "https://localhost:8080/",
          "height": 501
        },
        "id": "Z-n_EBfR-P3_",
        "outputId": "6c1c676c-bb92-4e82-b203-c2a04bd38b69"
      },
      "outputs": [
        {
          "output_type": "stream",
          "name": "stdout",
          "text": [
            "[[56347   517]\n",
            " [ 7752 49112]]\n"
          ]
        },
        {
          "output_type": "execute_result",
          "data": {
            "text/plain": [
              "<sklearn.metrics._plot.confusion_matrix.ConfusionMatrixDisplay at 0x7cb2128dcd30>"
            ]
          },
          "metadata": {},
          "execution_count": 46
        },
        {
          "output_type": "display_data",
          "data": {
            "text/plain": [
              "<Figure size 640x480 with 2 Axes>"
            ],
            "image/png": "[encoded data removed]"
          },
          "metadata": {}
        }
      ],
      "source": [
        "score=recall_score(Ytest_re,dt2_test_ypred)\n",
        "matr=confusion_matrix(Ytest_re,dt2_test_ypred)\n",
        "print(matr)\n",
        "\n",
        "label=['Actual','Fraud']\n",
        "cmt=ConfusionMatrixDisplay(matr,display_labels=label)\n",
        "cmt.plot()\n"
      ]
    },
    {
      "cell_type": "markdown",
      "metadata": {
        "id": "Y2Y8kyRgeC9G"
      },
      "source": [
        "### **3. Random Forest**"
      ]
    },
    {
      "cell_type": "code",
      "execution_count": null,
      "metadata": {
        "id": "pN4QSKEJb3XQ",
        "colab": {
          "base_uri": "https://localhost:8080/",
          "height": 74
        },
        "outputId": "5eff6ddf-e097-49aa-e2d1-55aa76b37307"
      },
      "outputs": [
        {
          "output_type": "execute_result",
          "data": {
            "text/plain": [
              "RandomForestClassifier(criterion='entropy', max_depth=5, n_estimators=10)"
            ],
            "text/html": [
              "<style>#sk-container-id-6 {color: black;background-color: white;}#sk-container-id-6 pre{padding: 0;}#sk-container-id-6 div.sk-toggleable {background-color: white;}#sk-container-id-6 label.sk-toggleable__label {cursor: pointer;display: block;width: 100%;margin-bottom: 0;padding: 0.3em;box-sizing: border-box;text-align: center;}#sk-container-id-6 label.sk-toggleable__label-arrow:before {content: \"▸\";float: left;margin-right: 0.25em;color: #696969;}#sk-container-id-6 label.sk-toggleable__label-arrow:hover:before {color: black;}#sk-container-id-6 div.sk-estimator:hover label.sk-toggleable__label-arrow:before {color: black;}#sk-container-id-6 div.sk-toggleable__content {max-height: 0;max-width: 0;overflow: hidden;text-align: left;background-color: #f0f8ff;}#sk-container-id-6 div.sk-toggleable__content pre {margin: 0.2em;color: black;border-radius: 0.25em;background-color: #f0f8ff;}#sk-container-id-6 input.sk-toggleable__control:checked~div.sk-toggleable__content {max-height: 200px;max-width: 100%;overflow: auto;}#sk-container-id-6 input.sk-toggleable__control:checked~label.sk-toggleable__label-arrow:before {content: \"▾\";}#sk-container-id-6 div.sk-estimator input.sk-toggleable__control:checked~label.sk-toggleable__label {background-color: #d4ebff;}#sk-container-id-6 div.sk-label input.sk-toggleable__control:checked~label.sk-toggleable__label {background-color: #d4ebff;}#sk-container-id-6 input.sk-hidden--visually {border: 0;clip: rect(1px 1px 1px 1px);clip: rect(1px, 1px, 1px, 1px);height: 1px;margin: -1px;overflow: hidden;padding: 0;position: absolute;width: 1px;}#sk-container-id-6 div.sk-estimator {font-family: monospace;background-color: #f0f8ff;border: 1px dotted black;border-radius: 0.25em;box-sizing: border-box;margin-bottom: 0.5em;}#sk-container-id-6 div.sk-estimator:hover {background-color: #d4ebff;}#sk-container-id-6 div.sk-parallel-item::after {content: \"\";width: 100%;border-bottom: 1px solid gray;flex-grow: 1;}#sk-container-id-6 div.sk-label:hover label.sk-toggleable__label {background-color: #d4ebff;}#sk-container-id-6 div.sk-serial::before {content: \"\";position: absolute;border-left: 1px solid gray;box-sizing: border-box;top: 0;bottom: 0;left: 50%;z-index: 0;}#sk-container-id-6 div.sk-serial {display: flex;flex-direction: column;align-items: center;background-color: white;padding-right: 0.2em;padding-left: 0.2em;position: relative;}#sk-container-id-6 div.sk-item {position: relative;z-index: 1;}#sk-container-id-6 div.sk-parallel {display: flex;align-items: stretch;justify-content: center;background-color: white;position: relative;}#sk-container-id-6 div.sk-item::before, #sk-container-id-6 div.sk-parallel-item::before {content: \"\";position: absolute;border-left: 1px solid gray;box-sizing: border-box;top: 0;bottom: 0;left: 50%;z-index: -1;}#sk-container-id-6 div.sk-parallel-item {display: flex;flex-direction: column;z-index: 1;position: relative;background-color: white;}#sk-container-id-6 div.sk-parallel-item:first-child::after {align-self: flex-end;width: 50%;}#sk-container-id-6 div.sk-parallel-item:last-child::after {align-self: flex-start;width: 50%;}#sk-container-id-6 div.sk-parallel-item:only-child::after {width: 0;}#sk-container-id-6 div.sk-dashed-wrapped {border: 1px dashed gray;margin: 0 0.4em 0.5em 0.4em;box-sizing: border-box;padding-bottom: 0.4em;background-color: white;}#sk-container-id-6 div.sk-label label {font-family: monospace;font-weight: bold;display: inline-block;line-height: 1.2em;}#sk-container-id-6 div.sk-label-container {text-align: center;}#sk-container-id-6 div.sk-container {/* jupyter's `normalize.less` sets `[hidden] { display: none; }` but bootstrap.min.css set `[hidden] { display: none !important; }` so we also need the `!important` here to be able to override the default hidden behavior on the sphinx rendered scikit-learn.org. See: https://github.com/scikit-learn/scikit-learn/issues/21755 */display: inline-block !important;position: relative;}#sk-container-id-6 div.sk-text-repr-fallback {display: none;}</style><div id=\"sk-container-id-6\" class=\"sk-top-container\"><div class=\"sk-text-repr-fallback\"><pre>RandomForestClassifier(criterion=&#x27;entropy&#x27;, max_depth=5, n_estimators=10)</pre><b>In a Jupyter environment, please rerun this cell to show the HTML representation or trust the notebook. <br />On GitHub, the HTML representation is unable to render, please try loading this page with nbviewer.org.</b></div><div class=\"sk-container\" hidden><div class=\"sk-item\"><div class=\"sk-estimator sk-toggleable\"><input class=\"sk-toggleable__control sk-hidden--visually\" id=\"sk-estimator-id-6\" type=\"checkbox\" checked><label for=\"sk-estimator-id-6\" class=\"sk-toggleable__label sk-toggleable__label-arrow\">RandomForestClassifier</label><div class=\"sk-toggleable__content\"><pre>RandomForestClassifier(criterion=&#x27;entropy&#x27;, max_depth=5, n_estimators=10)</pre></div></div></div></div></div>"
            ]
          },
          "metadata": {},
          "execution_count": 54
        }
      ],
      "source": [
        "from sklearn.ensemble import RandomForestClassifier\n",
        "\n",
        "rf = RandomForestClassifier(n_estimators=10,criterion='entropy',max_depth=5)\n",
        "rf.fit(Xtrains_re,Ytrain_re)"
      ]
    },
    {
      "cell_type": "code",
      "execution_count": null,
      "metadata": {
        "colab": {
          "base_uri": "https://localhost:8080/"
        },
        "id": "mh31u89pfMn5",
        "outputId": "874fa33b-2ef5-4e72-c8b8-dca377a90e29"
      },
      "outputs": [
        {
          "output_type": "stream",
          "name": "stdout",
          "text": [
            "accuracy: 0.9485878587507034\n",
            "recall: 0.9064258581879572\n",
            "precision: 0.9898980199350861\n"
          ]
        }
      ],
      "source": [
        "rf_typred = rf.predict(Xtests_re) #prediction on test set\n",
        "\n",
        "print(f'accuracy: {accuracy_score(Ytest_re,rf_typred)}')\n",
        "print(f'recall: {recall_score(Ytest_re,rf_typred)}')\n",
        "print(f'precision: {precision_score(Ytest_re,rf_typred)}')"
      ]
    },
    {
      "cell_type": "code",
      "source": [
        "score=recall_score(Ytest_re,rf_typred)\n",
        "matr=confusion_matrix(Ytest_re,rf_typred)\n",
        "print(matr)\n",
        "\n",
        "label=['Actual','Fraud']\n",
        "cmt=ConfusionMatrixDisplay(matr,display_labels=label)\n",
        "cmt.plot()"
      ],
      "metadata": {
        "colab": {
          "base_uri": "https://localhost:8080/",
          "height": 501
        },
        "id": "75tfW7vna54X",
        "outputId": "a10bdccd-4d3c-4314-86dc-0a8722d2bd25"
      },
      "execution_count": null,
      "outputs": [
        {
          "output_type": "stream",
          "name": "stdout",
          "text": [
            "[[56338   526]\n",
            " [ 5321 51543]]\n"
          ]
        },
        {
          "output_type": "execute_result",
          "data": {
            "text/plain": [
              "<sklearn.metrics._plot.confusion_matrix.ConfusionMatrixDisplay at 0x7cb21172bc10>"
            ]
          },
          "metadata": {},
          "execution_count": 56
        },
        {
          "output_type": "display_data",
          "data": {
            "text/plain": [
              "<Figure size 640x480 with 2 Axes>"
            ],
            "image/png": "[encoded data removed]"
          },
          "metadata": {}
        }
      ]
    },
    {
      "cell_type": "markdown",
      "metadata": {
        "id": "4l_Q_2aP_ICB"
      },
      "source": [
        "### **4. Gaussian NB**"
      ]
    },
    {
      "cell_type": "code",
      "execution_count": null,
      "metadata": {
        "id": "-USNpatb_Hm0",
        "colab": {
          "base_uri": "https://localhost:8080/",
          "height": 74
        },
        "outputId": "02f9e385-8d14-44b6-bade-b9bac1b7eb5e"
      },
      "outputs": [
        {
          "output_type": "execute_result",
          "data": {
            "text/plain": [
              "GaussianNB()"
            ],
            "text/html": [
              "<style>#sk-container-id-7 {color: black;background-color: white;}#sk-container-id-7 pre{padding: 0;}#sk-container-id-7 div.sk-toggleable {background-color: white;}#sk-container-id-7 label.sk-toggleable__label {cursor: pointer;display: block;width: 100%;margin-bottom: 0;padding: 0.3em;box-sizing: border-box;text-align: center;}#sk-container-id-7 label.sk-toggleable__label-arrow:before {content: \"▸\";float: left;margin-right: 0.25em;color: #696969;}#sk-container-id-7 label.sk-toggleable__label-arrow:hover:before {color: black;}#sk-container-id-7 div.sk-estimator:hover label.sk-toggleable__label-arrow:before {color: black;}#sk-container-id-7 div.sk-toggleable__content {max-height: 0;max-width: 0;overflow: hidden;text-align: left;background-color: #f0f8ff;}#sk-container-id-7 div.sk-toggleable__content pre {margin: 0.2em;color: black;border-radius: 0.25em;background-color: #f0f8ff;}#sk-container-id-7 input.sk-toggleable__control:checked~div.sk-toggleable__content {max-height: 200px;max-width: 100%;overflow: auto;}#sk-container-id-7 input.sk-toggleable__control:checked~label.sk-toggleable__label-arrow:before {content: \"▾\";}#sk-container-id-7 div.sk-estimator input.sk-toggleable__control:checked~label.sk-toggleable__label {background-color: #d4ebff;}#sk-container-id-7 div.sk-label input.sk-toggleable__control:checked~label.sk-toggleable__label {background-color: #d4ebff;}#sk-container-id-7 input.sk-hidden--visually {border: 0;clip: rect(1px 1px 1px 1px);clip: rect(1px, 1px, 1px, 1px);height: 1px;margin: -1px;overflow: hidden;padding: 0;position: absolute;width: 1px;}#sk-container-id-7 div.sk-estimator {font-family: monospace;background-color: #f0f8ff;border: 1px dotted black;border-radius: 0.25em;box-sizing: border-box;margin-bottom: 0.5em;}#sk-container-id-7 div.sk-estimator:hover {background-color: #d4ebff;}#sk-container-id-7 div.sk-parallel-item::after {content: \"\";width: 100%;border-bottom: 1px solid gray;flex-grow: 1;}#sk-container-id-7 div.sk-label:hover label.sk-toggleable__label {background-color: #d4ebff;}#sk-container-id-7 div.sk-serial::before {content: \"\";position: absolute;border-left: 1px solid gray;box-sizing: border-box;top: 0;bottom: 0;left: 50%;z-index: 0;}#sk-container-id-7 div.sk-serial {display: flex;flex-direction: column;align-items: center;background-color: white;padding-right: 0.2em;padding-left: 0.2em;position: relative;}#sk-container-id-7 div.sk-item {position: relative;z-index: 1;}#sk-container-id-7 div.sk-parallel {display: flex;align-items: stretch;justify-content: center;background-color: white;position: relative;}#sk-container-id-7 div.sk-item::before, #sk-container-id-7 div.sk-parallel-item::before {content: \"\";position: absolute;border-left: 1px solid gray;box-sizing: border-box;top: 0;bottom: 0;left: 50%;z-index: -1;}#sk-container-id-7 div.sk-parallel-item {display: flex;flex-direction: column;z-index: 1;position: relative;background-color: white;}#sk-container-id-7 div.sk-parallel-item:first-child::after {align-self: flex-end;width: 50%;}#sk-container-id-7 div.sk-parallel-item:last-child::after {align-self: flex-start;width: 50%;}#sk-container-id-7 div.sk-parallel-item:only-child::after {width: 0;}#sk-container-id-7 div.sk-dashed-wrapped {border: 1px dashed gray;margin: 0 0.4em 0.5em 0.4em;box-sizing: border-box;padding-bottom: 0.4em;background-color: white;}#sk-container-id-7 div.sk-label label {font-family: monospace;font-weight: bold;display: inline-block;line-height: 1.2em;}#sk-container-id-7 div.sk-label-container {text-align: center;}#sk-container-id-7 div.sk-container {/* jupyter's `normalize.less` sets `[hidden] { display: none; }` but bootstrap.min.css set `[hidden] { display: none !important; }` so we also need the `!important` here to be able to override the default hidden behavior on the sphinx rendered scikit-learn.org. See: https://github.com/scikit-learn/scikit-learn/issues/21755 */display: inline-block !important;position: relative;}#sk-container-id-7 div.sk-text-repr-fallback {display: none;}</style><div id=\"sk-container-id-7\" class=\"sk-top-container\"><div class=\"sk-text-repr-fallback\"><pre>GaussianNB()</pre><b>In a Jupyter environment, please rerun this cell to show the HTML representation or trust the notebook. <br />On GitHub, the HTML representation is unable to render, please try loading this page with nbviewer.org.</b></div><div class=\"sk-container\" hidden><div class=\"sk-item\"><div class=\"sk-estimator sk-toggleable\"><input class=\"sk-toggleable__control sk-hidden--visually\" id=\"sk-estimator-id-7\" type=\"checkbox\" checked><label for=\"sk-estimator-id-7\" class=\"sk-toggleable__label sk-toggleable__label-arrow\">GaussianNB</label><div class=\"sk-toggleable__content\"><pre>GaussianNB()</pre></div></div></div></div></div>"
            ]
          },
          "metadata": {},
          "execution_count": 57
        }
      ],
      "source": [
        "from sklearn.naive_bayes import GaussianNB\n",
        "nb = GaussianNB()\n",
        "nb.fit(Xtrains_re,Ytrain_re)"
      ]
    },
    {
      "cell_type": "code",
      "execution_count": null,
      "metadata": {
        "colab": {
          "base_uri": "https://localhost:8080/"
        },
        "id": "PDkYlW23_oSb",
        "outputId": "2351b5eb-7b10-4979-a6ee-6c82d92318ad"
      },
      "outputs": [
        {
          "output_type": "stream",
          "name": "stdout",
          "text": [
            "accuracy:  0.918006119864941\n",
            "recall:  0.8594189645469893\n",
            "precision:  0.973486583932591\n"
          ]
        }
      ],
      "source": [
        "nb_ytpred = nb.predict(Xtests_re)\n",
        "print(f'accuracy: {accuracy_score(Ytest_re,nb_ytpred)}')\n",
        "print(f'recall: {recall_score(Ytest_re,nb_ytpred)}')\n",
        "print(f'precision: {precision_score(Ytest_re,nb_ytpred)}')"
      ]
    },
    {
      "cell_type": "code",
      "source": [
        "score=recall_score(Ytest_re,nb_ytpred)\n",
        "matr=confusion_matrix(Ytest_re,nb_ytpred)\n",
        "print(matr)\n",
        "\n",
        "label=['Actual','Fraud']\n",
        "cmt=ConfusionMatrixDisplay(matr,display_labels=label)\n",
        "cmt.plot()"
      ],
      "metadata": {
        "colab": {
          "base_uri": "https://localhost:8080/",
          "height": 501
        },
        "id": "xuoKoHb4bSSo",
        "outputId": "debf37a8-b818-4555-953a-a6c6fa5caa1c"
      },
      "execution_count": null,
      "outputs": [
        {
          "output_type": "stream",
          "name": "stdout",
          "text": [
            "[[55533  1331]\n",
            " [ 7994 48870]]\n"
          ]
        },
        {
          "output_type": "execute_result",
          "data": {
            "text/plain": [
              "<sklearn.metrics._plot.confusion_matrix.ConfusionMatrixDisplay at 0x7cb211643700>"
            ]
          },
          "metadata": {},
          "execution_count": 59
        },
        {
          "output_type": "display_data",
          "data": {
            "text/plain": [
              "<Figure size 640x480 with 2 Axes>"
            ],
            "image/png": "[encoded data removed]"
          },
          "metadata": {}
        }
      ]
    },
    {
      "cell_type": "markdown",
      "metadata": {
        "id": "yZUZx4Or0Jf0"
      },
      "source": [
        "### **5. XG Boost**"
      ]
    },
    {
      "cell_type": "code",
      "execution_count": null,
      "metadata": {
        "colab": {
          "base_uri": "https://localhost:8080/",
          "height": 248
        },
        "id": "cXxFy7c9e2N3",
        "outputId": "4259abda-1fda-4732-8645-288956fb48d6"
      },
      "outputs": [
        {
          "output_type": "execute_result",
          "data": {
            "text/plain": [
              "XGBClassifier(base_score=None, booster=None, callbacks=None,\n",
              "              colsample_bylevel=None, colsample_bynode=None,\n",
              "              colsample_bytree=None, device=None, early_stopping_rounds=None,\n",
              "              enable_categorical=False, eval_metric=None, feature_types=None,\n",
              "              gamma=None, grow_policy=None, importance_type=None,\n",
              "              interaction_constraints=None, learning_rate=None, max_bin=None,\n",
              "              max_cat_threshold=None, max_cat_to_onehot=None,\n",
              "              max_delta_step=None, max_depth=None, max_leaves=None,\n",
              "              min_child_weight=None, missing=nan, monotone_constraints=None,\n",
              "              multi_strategy=None, n_estimators=None, n_jobs=None,\n",
              "              num_parallel_tree=None, random_state=None, ...)"
            ],
            "text/html": [
              "<style>#sk-container-id-8 {color: black;background-color: white;}#sk-container-id-8 pre{padding: 0;}#sk-container-id-8 div.sk-toggleable {background-color: white;}#sk-container-id-8 label.sk-toggleable__label {cursor: pointer;display: block;width: 100%;margin-bottom: 0;padding: 0.3em;box-sizing: border-box;text-align: center;}#sk-container-id-8 label.sk-toggleable__label-arrow:before {content: \"▸\";float: left;margin-right: 0.25em;color: #696969;}#sk-container-id-8 label.sk-toggleable__label-arrow:hover:before {color: black;}#sk-container-id-8 div.sk-estimator:hover label.sk-toggleable__label-arrow:before {color: black;}#sk-container-id-8 div.sk-toggleable__content {max-height: 0;max-width: 0;overflow: hidden;text-align: left;background-color: #f0f8ff;}#sk-container-id-8 div.sk-toggleable__content pre {margin: 0.2em;color: black;border-radius: 0.25em;background-color: #f0f8ff;}#sk-container-id-8 input.sk-toggleable__control:checked~div.sk-toggleable__content {max-height: 200px;max-width: 100%;overflow: auto;}#sk-container-id-8 input.sk-toggleable__control:checked~label.sk-toggleable__label-arrow:before {content: \"▾\";}#sk-container-id-8 div.sk-estimator input.sk-toggleable__control:checked~label.sk-toggleable__label {background-color: #d4ebff;}#sk-container-id-8 div.sk-label input.sk-toggleable__control:checked~label.sk-toggleable__label {background-color: #d4ebff;}#sk-container-id-8 input.sk-hidden--visually {border: 0;clip: rect(1px 1px 1px 1px);clip: rect(1px, 1px, 1px, 1px);height: 1px;margin: -1px;overflow: hidden;padding: 0;position: absolute;width: 1px;}#sk-container-id-8 div.sk-estimator {font-family: monospace;background-color: #f0f8ff;border: 1px dotted black;border-radius: 0.25em;box-sizing: border-box;margin-bottom: 0.5em;}#sk-container-id-8 div.sk-estimator:hover {background-color: #d4ebff;}#sk-container-id-8 div.sk-parallel-item::after {content: \"\";width: 100%;border-bottom: 1px solid gray;flex-grow: 1;}#sk-container-id-8 div.sk-label:hover label.sk-toggleable__label {background-color: #d4ebff;}#sk-container-id-8 div.sk-serial::before {content: \"\";position: absolute;border-left: 1px solid gray;box-sizing: border-box;top: 0;bottom: 0;left: 50%;z-index: 0;}#sk-container-id-8 div.sk-serial {display: flex;flex-direction: column;align-items: center;background-color: white;padding-right: 0.2em;padding-left: 0.2em;position: relative;}#sk-container-id-8 div.sk-item {position: relative;z-index: 1;}#sk-container-id-8 div.sk-parallel {display: flex;align-items: stretch;justify-content: center;background-color: white;position: relative;}#sk-container-id-8 div.sk-item::before, #sk-container-id-8 div.sk-parallel-item::before {content: \"\";position: absolute;border-left: 1px solid gray;box-sizing: border-box;top: 0;bottom: 0;left: 50%;z-index: -1;}#sk-container-id-8 div.sk-parallel-item {display: flex;flex-direction: column;z-index: 1;position: relative;background-color: white;}#sk-container-id-8 div.sk-parallel-item:first-child::after {align-self: flex-end;width: 50%;}#sk-container-id-8 div.sk-parallel-item:last-child::after {align-self: flex-start;width: 50%;}#sk-container-id-8 div.sk-parallel-item:only-child::after {width: 0;}#sk-container-id-8 div.sk-dashed-wrapped {border: 1px dashed gray;margin: 0 0.4em 0.5em 0.4em;box-sizing: border-box;padding-bottom: 0.4em;background-color: white;}#sk-container-id-8 div.sk-label label {font-family: monospace;font-weight: bold;display: inline-block;line-height: 1.2em;}#sk-container-id-8 div.sk-label-container {text-align: center;}#sk-container-id-8 div.sk-container {/* jupyter's `normalize.less` sets `[hidden] { display: none; }` but bootstrap.min.css set `[hidden] { display: none !important; }` so we also need the `!important` here to be able to override the default hidden behavior on the sphinx rendered scikit-learn.org. See: https://github.com/scikit-learn/scikit-learn/issues/21755 */display: inline-block !important;position: relative;}#sk-container-id-8 div.sk-text-repr-fallback {display: none;}</style><div id=\"sk-container-id-8\" class=\"sk-top-container\"><div class=\"sk-text-repr-fallback\"><pre>XGBClassifier(base_score=None, booster=None, callbacks=None,\n",
              "              colsample_bylevel=None, colsample_bynode=None,\n",
              "              colsample_bytree=None, device=None, early_stopping_rounds=None,\n",
              "              enable_categorical=False, eval_metric=None, feature_types=None,\n",
              "              gamma=None, grow_policy=None, importance_type=None,\n",
              "              interaction_constraints=None, learning_rate=None, max_bin=None,\n",
              "              max_cat_threshold=None, max_cat_to_onehot=None,\n",
              "              max_delta_step=None, max_depth=None, max_leaves=None,\n",
              "              min_child_weight=None, missing=nan, monotone_constraints=None,\n",
              "              multi_strategy=None, n_estimators=None, n_jobs=None,\n",
              "              num_parallel_tree=None, random_state=None, ...)</pre><b>In a Jupyter environment, please rerun this cell to show the HTML representation or trust the notebook. <br />On GitHub, the HTML representation is unable to render, please try loading this page with nbviewer.org.</b></div><div class=\"sk-container\" hidden><div class=\"sk-item\"><div class=\"sk-estimator sk-toggleable\"><input class=\"sk-toggleable__control sk-hidden--visually\" id=\"sk-estimator-id-8\" type=\"checkbox\" checked><label for=\"sk-estimator-id-8\" class=\"sk-toggleable__label sk-toggleable__label-arrow\">XGBClassifier</label><div class=\"sk-toggleable__content\"><pre>XGBClassifier(base_score=None, booster=None, callbacks=None,\n",
              "              colsample_bylevel=None, colsample_bynode=None,\n",
              "              colsample_bytree=None, device=None, early_stopping_rounds=None,\n",
              "              enable_categorical=False, eval_metric=None, feature_types=None,\n",
              "              gamma=None, grow_policy=None, importance_type=None,\n",
              "              interaction_constraints=None, learning_rate=None, max_bin=None,\n",
              "              max_cat_threshold=None, max_cat_to_onehot=None,\n",
              "              max_delta_step=None, max_depth=None, max_leaves=None,\n",
              "              min_child_weight=None, missing=nan, monotone_constraints=None,\n",
              "              multi_strategy=None, n_estimators=None, n_jobs=None,\n",
              "              num_parallel_tree=None, random_state=None, ...)</pre></div></div></div></div></div>"
            ]
          },
          "metadata": {},
          "execution_count": 60
        }
      ],
      "source": [
        "from xgboost import XGBClassifier\n",
        "\n",
        "xgb = XGBClassifier(scale_pos_weight=577)\n",
        "xgb.fit(Xtrains_re, Ytrain_re)"
      ]
    },
    {
      "cell_type": "code",
      "execution_count": null,
      "metadata": {
        "colab": {
          "base_uri": "https://localhost:8080/"
        },
        "id": "Kj9arjKggfqH",
        "outputId": "f00818bf-bdf9-47de-8815-648f1497665e"
      },
      "outputs": [
        {
          "output_type": "stream",
          "name": "stdout",
          "text": [
            "XGBoost - Test Accuracy: 0.956299240292628\n",
            "XGBoost - Test Recall Score: 0.9137063871693866\n",
            "XGBoost - Test Precision Score: 0.9987889273356402\n"
          ]
        }
      ],
      "source": [
        "xgb_typred = xgb.predict(Xtests_re)\n",
        "\n",
        "print(f'XGBoost - Test Accuracy: {accuracy_score(Ytest_re, xgb_typred )}')\n",
        "print(f'XGBoost - Test Recall Score: {recall_score(Ytest_re, xgb_typred )}')\n",
        "print(f'XGBoost - Test Precision Score: {precision_score(Ytest_re, xgb_typred)}')"
      ]
    },
    {
      "cell_type": "code",
      "execution_count": null,
      "metadata": {
        "id": "UzHf68pouFI0",
        "colab": {
          "base_uri": "https://localhost:8080/",
          "height": 501
        },
        "outputId": "44b3898d-ab82-4df7-cf71-215e34f0fd02"
      },
      "outputs": [
        {
          "output_type": "stream",
          "name": "stdout",
          "text": [
            "[[56801    63]\n",
            " [ 4907 51957]]\n"
          ]
        },
        {
          "output_type": "execute_result",
          "data": {
            "text/plain": [
              "<sklearn.metrics._plot.confusion_matrix.ConfusionMatrixDisplay at 0x7cb2116c1330>"
            ]
          },
          "metadata": {},
          "execution_count": 62
        },
        {
          "output_type": "display_data",
          "data": {
            "text/plain": [
              "<Figure size 640x480 with 2 Axes>"
            ],
            "image/png": "[encoded data removed]"
          },
          "metadata": {}
        }
      ],
      "source": [
        "score=recall_score(Ytest_re,xgb_typred)\n",
        "matr=confusion_matrix(Ytest_re,xgb_typred)\n",
        "print(matr)\n",
        "\n",
        "label=['Actual','Fraud']\n",
        "cmt=ConfusionMatrixDisplay(matr,display_labels=label)\n",
        "cmt.plot()"
      ]
    },
    {
      "cell_type": "markdown",
      "source": [
        "."
      ],
      "metadata": {
        "id": "U4mt7ZL4rbzT"
      }
    },
    {
      "cell_type": "markdown",
      "source": [
        "."
      ],
      "metadata": {
        "id": "W0-KQ-Tjrcxl"
      }
    },
    {
      "cell_type": "markdown",
      "source": [
        "."
      ],
      "metadata": {
        "id": "BIFeRoPIrbf3"
      }
    },
    {
      "cell_type": "markdown",
      "source": [
        "## **Conclusion**"
      ],
      "metadata": {
        "id": "Dsb4AzJ7fQMz"
      }
    },
    {
      "cell_type": "markdown",
      "source": [
        "Five models were tested, out of which **SVM(92%)** and **XGBoost(91%)** have a good Recall Score. Hence these two models can be considered for Credit Card Fraud Detection.\n",
        "\n"
      ],
      "metadata": {
        "id": "LiGvl1Jng0I3"
      }
    },
    {
      "cell_type": "code",
      "source": [],
      "metadata": {
        "id": "mP-27ZqLg0zs"
      },
      "execution_count": null,
      "outputs": []
    }
  ],
  "metadata": {
    "accelerator": "GPU",
    "colab": {
      "provenance": [],
      "mount_file_id": "1zibrVfMO5KCJvvPW3OS0Hv9pbVrfoFu8",
      "authorship_tag": "ABX9TyNvJQkqyaLIXA/1LZlCWOtL"
    },
    "kernelspec": {
      "display_name": "Python 3",
      "name": "python3"
    },
    "language_info": {
      "name": "python"
    }
  },
  "nbformat": 4,
  "nbformat_minor": 0
}